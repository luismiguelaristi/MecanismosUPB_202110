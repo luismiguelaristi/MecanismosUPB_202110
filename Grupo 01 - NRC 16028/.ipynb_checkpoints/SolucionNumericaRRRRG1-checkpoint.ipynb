{
 "cells": [
  {
   "cell_type": "markdown",
   "id": "controlling-thanks",
   "metadata": {
    "slideshow": {
     "slide_type": "slide"
    }
   },
   "source": [
    "# Análisis de posición del mecanismo manivela corredera por métodos numéricos\n",
    "\n",
    "## Objetivo\n",
    "\n",
    "Encontrar valores de las variables del mecanismo que me permitan posicionar sus barras, usando métodos numéricos.\n",
    "\n",
    "## Diagramas cinemático y vectorial"
   ]
  },
  {
   "cell_type": "markdown",
   "id": "dedicated-sense",
   "metadata": {},
   "source": [
    "Imagen del taller de método analítico AQUÍ."
   ]
  },
  {
   "cell_type": "markdown",
   "id": "dried-calgary",
   "metadata": {
    "slideshow": {
     "slide_type": "slide"
    }
   },
   "source": [
    "Usar este enlace para escribir las ecuaciones en formáto LaTeX: https://codecogs.com/latex/eqneditor.php\n",
    "\n",
    "Análisis vectorial y ecuaciones escalares aquí"
   ]
  },
  {
   "cell_type": "markdown",
   "id": "weighted-communication",
   "metadata": {
    "slideshow": {
     "slide_type": "slide"
    }
   },
   "source": [
    "## Solución\n",
    "\n",
    "Primero importamos los módulos necesarios:\n",
    "1. numpy para operaciones numéricas\n",
    "2. fsolve de scipy.optimize para resolver el sistema de ecuaciones no lineal"
   ]
  },
  {
   "cell_type": "code",
   "execution_count": 92,
   "id": "accessory-harvard",
   "metadata": {
    "slideshow": {
     "slide_type": "subslide"
    }
   },
   "outputs": [],
   "source": [
    "import numpy as np\n",
    "from scipy.optimize import fsolve"
   ]
  },
  {
   "cell_type": "markdown",
   "id": "fundamental-former",
   "metadata": {
    "slideshow": {
     "slide_type": "subslide"
    }
   },
   "source": [
    "Para resolver un sistema de ecuaciones NO LINEAL usando el método numérico de Newton-Rhapson con \"fsolve\", debemos proveer una FUNCIÓN."
   ]
  },
  {
   "cell_type": "markdown",
   "id": "homeless-barrier",
   "metadata": {
    "slideshow": {
     "slide_type": "slide"
    }
   },
   "source": [
    "### Usando fsolve\n",
    "\n",
    "Para usar fsolve, debemos incluir el sistema de ecuaciones en una función de la siguiente forma:"
   ]
  },
  {
   "cell_type": "code",
   "execution_count": 95,
   "id": "collective-retro",
   "metadata": {
    "slideshow": {
     "slide_type": "slide"
    }
   },
   "outputs": [],
   "source": [
    "def nombredelafuncionaqui(condIni, params):\n",
    "    #variable de entrada y parámetros\n",
    "    ## Primero la variable de entrada\n",
    "    \n",
    "    ## Luego los parámetros\n",
    "    \n",
    "    \n",
    "    # las condiciones iniciales deben darse para que el método funcione\n",
    "   \n",
    "    \n",
    "    # creamos el vector donde quedará la salida, inicialmente con ceros\n",
    "    \n",
    "    # Definimos las ecuaciones escalares no lineales\n",
    "    Y[0] = \n",
    "    Y[1] = \n",
    "    \n",
    "    return Y"
   ]
  },
  {
   "cell_type": "markdown",
   "id": "pretty-service",
   "metadata": {
    "slideshow": {
     "slide_type": "slide"
    }
   },
   "source": [
    "### Probar la función\n",
    "\n",
    "Podemos probar la función simplemente definiendo los parámetros correspondientes al mecanismo, un valor para la variable de entrada y las condiciones iniciales:"
   ]
  },
  {
   "cell_type": "code",
   "execution_count": 96,
   "id": "round-waters",
   "metadata": {
    "slideshow": {
     "slide_type": "subslide"
    }
   },
   "outputs": [
    {
     "name": "stdout",
     "output_type": "stream",
     "text": [
      "los parámetros son: \n",
      "5 17.5 0\n"
     ]
    }
   ],
   "source": [
    "#parámetros aquí"
   ]
  },
  {
   "cell_type": "code",
   "execution_count": 97,
   "id": "logical-owner",
   "metadata": {
    "slideshow": {
     "slide_type": "subslide"
    }
   },
   "outputs": [
    {
     "name": "stdout",
     "output_type": "stream",
     "text": [
      "0.0\n"
     ]
    }
   ],
   "source": [
    "print(np.rad2deg(th2))"
   ]
  },
  {
   "cell_type": "code",
   "execution_count": 98,
   "id": "patent-pension",
   "metadata": {
    "slideshow": {
     "slide_type": "subslide"
    }
   },
   "outputs": [],
   "source": [
    "th3ini = np.deg2rad(180)\n",
    "r4ini = 22.5"
   ]
  },
  {
   "cell_type": "code",
   "execution_count": 99,
   "id": "antique-rating",
   "metadata": {
    "slideshow": {
     "slide_type": "subslide"
    }
   },
   "outputs": [
    {
     "name": "stdout",
     "output_type": "stream",
     "text": [
      "[ 0.0000000e+00 -2.1431319e-15]\n"
     ]
    }
   ],
   "source": [
    "# x0 es una lista\n",
    "x0 = \n",
    "# parametros es una lista\n",
    "parametros = \n",
    "resultado = nombredelafuncionaqui(x0,parametros)\n",
    "print(resultado)"
   ]
  },
  {
   "cell_type": "markdown",
   "id": "improving-tribe",
   "metadata": {
    "slideshow": {
     "slide_type": "slide"
    }
   },
   "source": [
    "### Probar fsolve\n",
    "\n",
    "Probemos fsolve de la siguiente forma"
   ]
  },
  {
   "cell_type": "code",
   "execution_count": 100,
   "id": "elementary-prairie",
   "metadata": {
    "scrolled": true,
    "slideshow": {
     "slide_type": "slide"
    }
   },
   "outputs": [
    {
     "name": "stdout",
     "output_type": "stream",
     "text": [
      "Theta 3 =  180.0  y r4 =  22.5\n"
     ]
    }
   ],
   "source": [
    "ultResultado = fsolve(nombredelafuncionaqui,x0, args = parametros)\n",
    "print()"
   ]
  },
  {
   "cell_type": "markdown",
   "id": "established-jurisdiction",
   "metadata": {
    "slideshow": {
     "slide_type": "slide"
    }
   },
   "source": [
    "Ahora volvamos a resolver usando como condiciones iniciales el último resultado después de usar fsolve"
   ]
  },
  {
   "cell_type": "markdown",
   "id": "therapeutic-aspect",
   "metadata": {
    "slideshow": {
     "slide_type": "slide"
    }
   },
   "source": [
    "Esto que acabamos de hacer lo podemos replicar para las posiciones del mecanismo que queramos, idealmente usando una estructura cíclica de programación, así podemos calcular el movimiento del mecanismo para un rango de valores de la variable de entrada.\n",
    "\n",
    "Observémoslo gráficamente:"
   ]
  },
  {
   "cell_type": "code",
   "execution_count": 103,
   "id": "metric-hamilton",
   "metadata": {
    "slideshow": {
     "slide_type": "slide"
    }
   },
   "outputs": [
    {
     "data": {
      "image/png": "[encoded data removed]",
      "text/plain": [
       "<Figure size 432x288 with 1 Axes>"
      ]
     },
     "metadata": {
      "needs_background": "light"
     },
     "output_type": "display_data"
    }
   ],
   "source": [
    "import matplotlib.pyplot as plt\n",
    "\n",
    "# Definición de puntos\n",
    "Ox = 0\n",
    "Oy = 0\n",
    "Ax = \n",
    "Ay = \n",
    "Bx = \n",
    "By = \n",
    "\n",
    "# Gráfica del mecanismo en el plano\n",
    "\n",
    "fig = plt.figure()\n",
    "# manivela\n",
    "hr2 = plt.plot([Ox,Ax],[Oy,Ay])\n",
    "# acopladora\n",
    "hr3 = plt.plot([Ax,Bx],[Ay,By])\n",
    "plt.axis(\"scaled\")\n",
    "plt.xlim(-r2,r2+r3)\n",
    "plt.ylim(-r2,r2)\n",
    "plt.grid()\n",
    "plt.draw() "
   ]
  },
  {
   "cell_type": "markdown",
   "id": "distinct-lemon",
   "metadata": {
    "slideshow": {
     "slide_type": "slide"
    }
   },
   "source": [
    "## Solución para un rango de valores\n",
    "\n",
    "Es cuestión de usar una estructura cíclica de programación que nos permita ejecutar lo anterior varias veces.\n",
    "\n",
    "Empecemos por definir cuántos valores queremos evaluar."
   ]
  },
  {
   "cell_type": "code",
   "execution_count": 104,
   "id": "turkish-workshop",
   "metadata": {
    "slideshow": {
     "slide_type": "subslide"
    }
   },
   "outputs": [],
   "source": [
    "numpos = 50"
   ]
  },
  {
   "cell_type": "markdown",
   "id": "limited-interface",
   "metadata": {
    "slideshow": {
     "slide_type": "subslide"
    }
   },
   "source": [
    "luego definimos las posiciones de la manivela con base en este valor. Una forma simple es definir \"numpos\" posiciones iniciando en 0° y terminando en 360°, distribuidas de forma lineal usando la función \"linspace\" de Numpy"
   ]
  },
  {
   "cell_type": "code",
   "execution_count": 105,
   "id": "activated-setting",
   "metadata": {
    "slideshow": {
     "slide_type": "subslide"
    }
   },
   "outputs": [
    {
     "name": "stdout",
     "output_type": "stream",
     "text": [
      "[  0.           7.34693878  14.69387755  22.04081633  29.3877551\n",
      "  36.73469388  44.08163265  51.42857143  58.7755102   66.12244898\n",
      "  73.46938776  80.81632653  88.16326531  95.51020408 102.85714286\n",
      " 110.20408163 117.55102041 124.89795918 132.24489796 139.59183673\n",
      " 146.93877551 154.28571429 161.63265306 168.97959184 176.32653061\n",
      " 183.67346939 191.02040816 198.36734694 205.71428571 213.06122449\n",
      " 220.40816327 227.75510204 235.10204082 242.44897959 249.79591837\n",
      " 257.14285714 264.48979592 271.83673469 279.18367347 286.53061224\n",
      " 293.87755102 301.2244898  308.57142857 315.91836735 323.26530612\n",
      " 330.6122449  337.95918367 345.30612245 352.65306122 360.        ]\n"
     ]
    }
   ],
   "source": [
    "posInicial = np.deg2rad(45)\n",
    "posFinal = np.deg2rad(np.pi*2)\n",
    "th2V = np.linspace(posInicial,posFinal,numpos)\n",
    "print(np.rad2deg(th2V))"
   ]
  },
  {
   "cell_type": "markdown",
   "id": "horizontal-bouquet",
   "metadata": {
    "slideshow": {
     "slide_type": "subslide"
    }
   },
   "source": [
    "también debemos definir dónde vamos a almacenar los valores hallados"
   ]
  },
  {
   "cell_type": "code",
   "execution_count": 106,
   "id": "independent-associate",
   "metadata": {
    "slideshow": {
     "slide_type": "subslide"
    }
   },
   "outputs": [
    {
     "name": "stdout",
     "output_type": "stream",
     "text": [
      "[0. 0. 0. 0. 0. 0. 0. 0. 0. 0. 0. 0. 0. 0. 0. 0. 0. 0. 0. 0. 0. 0. 0. 0.\n",
      " 0. 0. 0. 0. 0. 0. 0. 0. 0. 0. 0. 0. 0. 0. 0. 0. 0. 0. 0. 0. 0. 0. 0. 0.\n",
      " 0. 0.]\n"
     ]
    }
   ],
   "source": [
    " = np.zeros(numpos)\n",
    " = np.zeros(numpos)\n",
    "print(r4V)"
   ]
  },
  {
   "cell_type": "markdown",
   "id": "narrative-zealand",
   "metadata": {
    "slideshow": {
     "slide_type": "slide"
    }
   },
   "source": [
    "adicionalmente, debemos crear un vector donde guardaremos información sobre la ejecución de fsolve, e.g., si hubo convergencia o si algo salió mal:"
   ]
  },
  {
   "cell_type": "code",
   "execution_count": 107,
   "id": "rotary-moderator",
   "metadata": {
    "slideshow": {
     "slide_type": "subslide"
    }
   },
   "outputs": [],
   "source": [
    "exitflagV = np.zeros(numpos)"
   ]
  },
  {
   "cell_type": "markdown",
   "id": "simple-shakespeare",
   "metadata": {
    "slideshow": {
     "slide_type": "slide"
    }
   },
   "source": [
    "Ahora si, vamos a implementar un ciclo for para las \"numpos\" posiciones de la manivela"
   ]
  },
  {
   "cell_type": "code",
   "execution_count": 108,
   "id": "objective-latter",
   "metadata": {
    "slideshow": {
     "slide_type": "subslide"
    }
   },
   "outputs": [],
   "source": [
    "for i in range(0,numpos):\n",
    "    # para cada iteración actualizamos el valor de la variable de entrada\n",
    "    parametros[0] = th2V[i]\n",
    "    # resolvemos con fsolve\n",
    "    q,info,exitflagV[i],mensaje = fsolve(nombredelafuncionaqui,\n",
    "                                        x0, \n",
    "                                        args = parametros,\n",
    "                                        full_output = True)\n",
    "    [i] = q[0]\n",
    "    [i] = q[1]\n",
    "    # actualizamos condiciones iniciales\n",
    "    x0 = q\n",
    "    # print(\"iteración \",i,\": \",th3V[i],r4V[i])\n",
    "    # Opcional, poner esto para detectar si hay un error\n",
    "    if exitflagV[i] != 1:\n",
    "        print('Error en la iteración ' + str(i))\n",
    "        print(mensaje)\n",
    "        break"
   ]
  },
  {
   "cell_type": "markdown",
   "id": "cosmetic-notice",
   "metadata": {
    "slideshow": {
     "slide_type": "subslide"
    }
   },
   "source": [
    "Si todo salió bien, no debería salir nada, osea que podemos imprimir los valores de las incógnitas:"
   ]
  },
  {
   "cell_type": "code",
   "execution_count": 109,
   "id": "fatty-person",
   "metadata": {
    "slideshow": {
     "slide_type": "subslide"
    }
   },
   "outputs": [
    {
     "name": "stdout",
     "output_type": "stream",
     "text": [
      "[180.         177.90615636 175.84397443 173.84496392 171.94029026\n",
      " 170.1605047  168.53516675 167.0923405  165.8579643  164.85511629\n",
      " 164.10322405 163.61729097 163.40722681 163.47736961 163.82626713\n",
      " 164.44675072 165.32629014 166.44757758 167.7892605  169.32673393\n",
      " 171.03291049 172.8789073  174.83461413 176.8691328  178.95109764\n",
      " 181.04890236 183.1308672  185.16538587 187.1210927  188.96708951\n",
      " 190.67326607 192.2107395  193.55242242 194.67370986 195.55324928\n",
      " 196.17373287 196.52263039 196.59277319 196.38270903 195.89677595\n",
      " 195.14488371 194.1420357  192.9076595  191.46483325 189.8394953\n",
      " 188.05970974 186.15503608 184.15602557 182.09384364 180.        ]\n",
      "[22.5        22.44726576 22.2904562  22.0337035  21.68373717 21.24964897\n",
      " 20.74256728 20.17524747 19.56159075 18.91611133 18.2533806  17.58748437\n",
      " 16.93153341 16.29726579 15.69477136 15.13235399 14.61653008 14.15214537\n",
      " 13.74258021 13.39000832 13.09567505 12.86016711 12.68365325 12.56608356\n",
      " 12.50734065 12.50734065 12.56608356 12.68365325 12.86016711 13.09567505\n",
      " 13.39000832 13.74258021 14.15214537 14.61653008 15.13235399 15.69477136\n",
      " 16.29726579 16.93153341 17.58748437 18.2533806  18.91611133 19.56159075\n",
      " 20.17524747 20.74256728 21.24964897 21.68373717 22.0337035  22.2904562\n",
      " 22.44726576 22.5       ]\n"
     ]
    }
   ],
   "source": [
    "print(np.rad2deg(th3V))\n",
    "print()"
   ]
  },
  {
   "cell_type": "markdown",
   "id": "specialized-steal",
   "metadata": {
    "slideshow": {
     "slide_type": "slide"
    }
   },
   "source": [
    "#### Nota:\n",
    "\n",
    "Sabemos que todo salió bien porque los valores de Exitflag son todos 1. Si hay algún cero, algo salió mal en una posición de la barra de entrada."
   ]
  },
  {
   "cell_type": "code",
   "execution_count": 110,
   "id": "focal-graham",
   "metadata": {
    "slideshow": {
     "slide_type": "subslide"
    }
   },
   "outputs": [
    {
     "name": "stdout",
     "output_type": "stream",
     "text": [
      "[1. 1. 1. 1. 1. 1. 1. 1. 1. 1. 1. 1. 1. 1. 1. 1. 1. 1. 1. 1. 1. 1. 1. 1.\n",
      " 1. 1. 1. 1. 1. 1. 1. 1. 1. 1. 1. 1. 1. 1. 1. 1. 1. 1. 1. 1. 1. 1. 1. 1.\n",
      " 1. 1.]\n"
     ]
    }
   ],
   "source": [
    "print(exitflagV)"
   ]
  },
  {
   "cell_type": "markdown",
   "id": "communist-leeds",
   "metadata": {
    "slideshow": {
     "slide_type": "slide"
    }
   },
   "source": [
    "Ya tenemos lo que queremos, ahora es cuestión de presentar la información. Por ahora generemos gráficas usando matplotlib.pyplot:"
   ]
  },
  {
   "cell_type": "code",
   "execution_count": 111,
   "id": "upper-model",
   "metadata": {
    "slideshow": {
     "slide_type": "subslide"
    }
   },
   "outputs": [
    {
     "data": {
      "image/png": "[encoded data removed]",
      "text/plain": [
       "<Figure size 432x288 with 1 Axes>"
      ]
     },
     "metadata": {
      "needs_background": "light"
     },
     "output_type": "display_data"
    }
   ],
   "source": [
    "plt.figure()\n",
    "plt.plot(np.rad2deg(th2V),np.rad2deg(th3V))\n",
    "plt.legend([\"$\\Theta_3$\"])\n",
    "plt.xlabel(\"$\\Theta_2$ [°]\")\n",
    "plt.ylabel(\"$\\Theta_3$ [°]\")\n",
    "plt.grid()"
   ]
  },
  {
   "cell_type": "code",
   "execution_count": 112,
   "id": "overall-exhibit",
   "metadata": {
    "slideshow": {
     "slide_type": "subslide"
    }
   },
   "outputs": [
    {
     "data": {
      "image/png": "[encoded data removed]",
      "text/plain": [
       "<Figure size 432x288 with 1 Axes>"
      ]
     },
     "metadata": {
      "needs_background": "light"
     },
     "output_type": "display_data"
    }
   ],
   "source": [
    "plt.figure()\n",
    "plt.plot(np.rad2deg(th2V),r4V)\n",
    "plt.legend([\"r4\"])\n",
    "plt.xlabel(\"$\\Theta_2$ [°]\")\n",
    "plt.ylabel(\"$r_4$ [cm]\")\n",
    "plt.grid()"
   ]
  },
  {
   "cell_type": "markdown",
   "id": "national-senate",
   "metadata": {
    "slideshow": {
     "slide_type": "slide"
    }
   },
   "source": [
    "## Animación\n",
    "\n",
    "Podemos hacer una representación gráfica del mecanismo donde observemos de manera dinámica las posiciones de las barras que acabamos de hallar. \n",
    "\n",
    "### Definición de puntos"
   ]
  },
  {
   "attachments": {
    "UbicacionPuntos.png": {
     "image/png": "[encoded data removed]"
    }
   },
   "cell_type": "markdown",
   "id": "numerical-buffer",
   "metadata": {
    "slideshow": {
     "slide_type": "slide"
    }
   },
   "source": [
    "![UbicacionPuntos.png](attachment:UbicacionPuntos.png)\n",
    "\n",
    "Para esto debemos hacer unos cambios sobre la definición de los puntos del mecanismo:"
   ]
  },
  {
   "cell_type": "code",
   "execution_count": 113,
   "id": "quality-dressing",
   "metadata": {
    "slideshow": {
     "slide_type": "subslide"
    }
   },
   "outputs": [
    {
     "name": "stdout",
     "output_type": "stream",
     "text": [
      "[-2.14313190e-15  9.99200722e-16  4.04121181e-14  9.39248679e-14\n",
      "  1.46993528e-13  1.81632487e-13  1.92734717e-13  1.81188398e-13\n",
      "  2.28261854e-13 -4.52970994e-14  8.88178420e-16  1.77635684e-15\n",
      "  8.52651283e-14 -8.88178420e-16  3.55271368e-15 -3.55271368e-15\n",
      "  8.88178420e-16 -1.42108547e-14 -3.77475828e-14 -6.30606678e-14\n",
      " -8.03801470e-14 -8.12683254e-14 -6.19504448e-14 -3.00870440e-14\n",
      " -8.60422844e-15  0.00000000e+00 -9.76996262e-15 -3.93018951e-14\n",
      " -6.79456491e-14 -8.26005930e-14 -8.34887715e-14 -6.35047570e-14\n",
      " -3.37507799e-14 -1.24344979e-14  8.88178420e-16  0.00000000e+00\n",
      " -2.66453526e-15 -8.88178420e-16  8.26005930e-14  8.88178420e-16\n",
      "  8.88178420e-16 -3.81916720e-14  3.13971071e-13  2.04281037e-13\n",
      "  2.10498285e-13  2.06501483e-13  1.61870517e-13  9.76996262e-14\n",
      "  3.79696274e-14  4.40378247e-15]\n"
     ]
    }
   ],
   "source": [
    "# Los puntos fijos no se deben redefinir, en este caso el punto O\n",
    "# El punto A y el punto B cambian de posición, por lo que se deben redefinir\n",
    "AxV = r2*np.cos(th2V)\n",
    "AyV = r2*np.sin(th2V)\n",
    "BxV = AxV - r3*np.cos(th3V)\n",
    "ByV = AyV - r3*np.sin(th3V)\n",
    "print(ByV)"
   ]
  },
  {
   "cell_type": "markdown",
   "id": "collective-writer",
   "metadata": {
    "slideshow": {
     "slide_type": "slide"
    }
   },
   "source": [
    "### Preparación de animación\n",
    "\n",
    "Para hacer animaciones haremos uso del módulo animation de matplotlib."
   ]
  },
  {
   "cell_type": "code",
   "execution_count": 114,
   "id": "significant-polish",
   "metadata": {
    "slideshow": {
     "slide_type": "subslide"
    }
   },
   "outputs": [],
   "source": [
    "from matplotlib.animation import FuncAnimation"
   ]
  },
  {
   "cell_type": "markdown",
   "id": "alternate-environment",
   "metadata": {
    "slideshow": {
     "slide_type": "subslide"
    }
   },
   "source": [
    "Este módulo requiere también una función donde indiquemos qué se requiere animar, de esta forma:"
   ]
  },
  {
   "cell_type": "code",
   "execution_count": 115,
   "id": "usual-appointment",
   "metadata": {
    "slideshow": {
     "slide_type": "subslide"
    }
   },
   "outputs": [],
   "source": [
    "def animar(i):\n",
    "    manivelaX = np.array([Ox,AxV[i]])\n",
    "    manivelaY = np.array([Oy,AyV[i]])\n",
    "    acopladorX = np.array([BxV[i],AxV[i]])\n",
    "    acopladorY = np.array([ByV[i],AyV[i]])\n",
    "    hr2[0].set_xdata(manivelaX)\n",
    "    hr2[0].set_ydata(manivelaY)\n",
    "    hr3[0].set_xdata(acopladorX)\n",
    "    hr3[0].set_ydata(acopladorY)"
   ]
  },
  {
   "cell_type": "markdown",
   "id": "approved-injection",
   "metadata": {
    "slideshow": {
     "slide_type": "slide"
    }
   },
   "source": [
    "Teniendo la función se puede realizar la animación:"
   ]
  },
  {
   "cell_type": "code",
   "execution_count": 116,
   "id": "specified-hunger",
   "metadata": {
    "slideshow": {
     "slide_type": "subslide"
    }
   },
   "outputs": [],
   "source": [
    "duracion = 3000 # en milisegundos\n",
    "animacion = FuncAnimation(fig, animar, interval=duracion/numpos, save_count=numpos)"
   ]
  },
  {
   "cell_type": "markdown",
   "id": "parental-pregnancy",
   "metadata": {
    "slideshow": {
     "slide_type": "subslide"
    }
   },
   "source": [
    "Ahora para mostrarla podemos usar varias formas:\n",
    "1. generar un archivo .gif\n",
    "2. mostrarla en un marco HTML5\n",
    "\n",
    "En Jupyter funciona muy bien la opción 2:"
   ]
  },
  {
   "cell_type": "code",
   "execution_count": 69,
   "id": "alike-table",
   "metadata": {
    "slideshow": {
     "slide_type": "subslide"
    }
   },
   "outputs": [
    {
     "data": {
      "text/html": [
       "<video width=\"432\" height=\"288\" controls autoplay loop>\n",
       "  <source type=\"video/mp4\" src=\"data:video/mp4;base64,AAAAHGZ0eXBNNFYgAAACAGlzb21pc28yYXZjMQAAAAhmcmVlAABU/m1kYXQAAAKgBgX//5zcRem9\n",
       "5tlIt5Ys2CDZI+7veDI2NCAtIGNvcmUgMTU5IC0gSC4yNjQvTVBFRy00IEFWQyBjb2RlYyAtIENv\n",
       "cHlsZWZ0IDIwMDMtMjAxOSAtIGh0dHA6Ly93d3cudmlkZW9sYW4ub3JnL3gyNjQuaHRtbCAtIG9w\n",
       "dGlvbnM6IGNhYmFjPTEgcmVmPTMgZGVibG9jaz0xOjA6MCBhbmFseXNlPTB4MzoweDExMyBtZT1o\n",
       "ZXggc3VibWU9NyBwc3k9MSBwc3lfcmQ9MS4wMDowLjAwIG1peGVkX3JlZj0xIG1lX3JhbmdlPTE2\n",
       "IGNocm9tYV9tZT0xIHRyZWxsaXM9MSA4eDhkY3Q9MSBjcW09MCBkZWFkem9uZT0yMSwxMSBmYXN0\n",
       "X3Bza2lwPTEgY2hyb21hX3FwX29mZnNldD0tMiB0aHJlYWRzPTkgbG9va2FoZWFkX3RocmVhZHM9\n",
       "MSBzbGljZWRfdGhyZWFkcz0wIG5yPTAgZGVjaW1hdGU9MSBpbnRlcmxhY2VkPTAgYmx1cmF5X2Nv\n",
       "bXBhdD0wIGNvbnN0cmFpbmVkX2ludHJhPTAgYmZyYW1lcz0zIGJfcHlyYW1pZD0yIGJfYWRhcHQ9\n",
       "MSBiX2JpYXM9MCBkaXJlY3Q9MSB3ZWlnaHRiPTEgb3Blbl9nb3A9MCB3ZWlnaHRwPTIga2V5aW50\n",
       "PTI1MCBrZXlpbnRfbWluPTE2IHNjZW5lY3V0PTQwIGludHJhX3JlZnJlc2g9MCByY19sb29rYWhl\n",
       "YWQ9NDAgcmM9Y3JmIG1idHJlZT0xIGNyZj0yMy4wIHFjb21wPTAuNjAgcXBtaW49MCBxcG1heD02\n",
       "OSBxcHN0ZXA9NCBpcF9yYXRpbz0xLjQwIGFxPTE6MS4wMACAAAAHwmWIhAA3//728P4FNjuY0JcR\n",
       "zeidMx+/Fbi6NDe9zgAAAwAAN9zmRP7KkwbmwAAC4AAJ4RFbnT4hJEf8wENRr2B37TWWLfIpEipX\n",
       "9ryCQw26PyhM1yHeCWoDmhc+KwbqcecSFtvgwIEXLXryuE88xQ7XxxqF1lqeWGKf+88E871OmNFm\n",
       "RV1S9DScyqOliDf9I8MVI9B4rE5/DlGSkvLTlcVdmkYkPyFxHMKcAwHfdGtakNqUFG/0wAWZeI4L\n",
       "kIa51+dGgZGU3Z6KtGBDCSjMBK+oZsBuCFvhGXYkbIoEP7YJGzkEqS0Q1dfJIkf/ivhgjapBN0Fu\n",
       "APUeWmj44ZEn+x7fJwWHV1COoHWRgcWdNwXo7SEcnkJwxqaay39svWUp9DXRlDHXOJjxtYKIKO9b\n",
       "902FQrrV0AdfFVFXhQPyD6QATLr73NWi7DmRZoRfeectLrBGFL7O8OYDvMYOTdR/LJPGRJofZPo4\n",
       "G/A/kxk7epj6RV7TUgatH14gnG3vgAL+v1JZmPI0XdTm8MeqaCtgYP1VRd8fnHPKPq59Orr9Yk/v\n",
       "xb7M+lQhOatWEo0oz0b0XbT3HnbVrPp34QM1C3y7r6a/uSiBNAP/L+Aur40D809KwQnr82uAyqnN\n",
       "M2kmJDl49r64L3jTSXny9ty7fBh00SyE0fH6iJoC8zMLfg6aqMSzqV4nSHoN/7lqCJx3H0PYArNt\n",
       "FUG61iC+ZLgInPzLIHqMbcsEyQHVkx4C9ddiN7BPH0Pf0HbTMagVlWWZbP1ekZK87HN1ql3fWBpH\n",
       "A8kQKNkAmA15siOuizc/Wjjzq7KE4HmcMXeOBrCqROZ2itC2+JCVFTsRvk3Uw4+AjZIXbAJKtB/B\n",
       "4jzKezG8NN6bEVMzplJoMhE+2HOMCTJrk3d9hZmnxUt3+TQ6A6b/yHtr0JoL4/tFT3y5SPdGbsia\n",
       "sVytTh3gZtrise4WRY4PwRG8ruKw7CHvvNVBjHRIF1hUU+14Gb/zD5XXA6yzeED9MHnOMT4pgoZ9\n",
       "dKnWFRnfJ6NmsF2T4D/H8kv6sYcKMAD9bXhxEAd6u5WVIrKi/E8yeDwxzHjZjP9P/hTK9SyGTnOH\n",
       "YG12iOp50oUYz98FkGJkUiaaTvNo8PD5Ba6k3DgCU82JBKus7OOe1VmV+p6oCB6igPMXZ7sCBVDo\n",
       "RHV4Z4507SKW5+Hlwxt3BRbfH481jbxSW8N+ToGBRyVRjpBJlVKyfmLttlYnjLNGT+c0s2RFhHAF\n",
       "P2MAsn9hdsknVV7lxaKbFGYoHnUKlHifqZQIqWb4/+aFU1Q1zwV1/DSrBBaLubYEq8qo/w3Qtz4L\n",
       "VWl/qjQBVBAOqOSP5B3MVPT+sBnucqiUNgkotTLT78sLor0UOK3/XXqxWSiiHBV5NujeTX2ulnhd\n",
       "w6MuuN3CBMtQYH7eJDxXksavr3Bl9oU27qRAYk8Htt95FTVHvcX84fwZvgjqn1qFJiO72/hTLSRr\n",
       "DvrnUEPweP0pDq8bAznhscunoH0wx4eR9CX6Voj640ZlJoj7YMhJG6q93SVWy698ewEbEBwEPq6i\n",
       "pQu2YOvBqEKNkmelte/Zxq4KzcQEPQGeh+3Y0s4xrq7BV4DG2AV+b3wU+7dhA5dLfN/xjYqH1gWJ\n",
       "ngI0AqImpN4dJkVvktTm6+7zf0HoejOnD3uZCsCzxpY8+Pj3VQA9yvgvCOvLMcoftOX+7yHrFq54\n",
       "/r2JQ5iySnMGWohln423k0yqx9eIJ6nebs+3EMbDYRFRbwQIe01sn2shU9cmRSdn69GXZPmQpc4g\n",
       "XkgMWaXy3L1eNqYrsFquKJG31F6tYFDE4hGXwOgCcH/j3OlNXMOMI11tJo/vqmtfqYPuv+U1Xa2z\n",
       "3MDhVTI1d97YNf5nhYpgshzN6EiOD+YhjNq7U5dweJX3wuaTCLtANymlAgCqCq70M70TqZQ6vZXp\n",
       "dRJRAX/9K33R8N5x8gqa0ZGKT2875Uta2peLxZYYZawKm+yZV1E+vhtt5oYMVgnVPW9GLTaeT0Kh\n",
       "ZT3MHPTkXQlWTpjnYNB+3TXsN0JRtLQSwnkK91qQwQHUMsxTNGPO+tvPWA6YjJc53KT2oYUG19SU\n",
       "B78jz1lU0NXJdhmzJE3u7NjXOSDxXXjMzVLIRf+D+ch2PMNnYe6GHTMA2jrLIUn62JPHI2Pqk3Hc\n",
       "TcE4GsiOgMc39dABk3JjbMbdsT5iHBExUiYUSYIEEkOBfwILZS/tHFOAGVmIPa0J/YHNxD/ade01\n",
       "nrm2b3xtmLHqJ8ayxc2wTVkWuve6O6M45LRP8YM4BpWkd/o8Ln4lBXwM+Z0IeJ5CBJgO7+YMcWe5\n",
       "UJY1wnLTyvhgq1zzyWDv6VGJgWr5EG/iVNz+5nkQFv7mKrderSRfzwWYVoM/W5BdTnjUpvWs5MlE\n",
       "qQT3sl4z8zuDn5Vq4ONcwRwdyRuFTbG1AojpWUrw8mwrse9XF+fO/TwioVpCNf/2Ud0vsk3nOD5F\n",
       "Gcm71jT/dqKyGMN9zQB33phiFCLy/HtYQSPeTnm/lv7itk5TGbGj5pO/KW/YBaBS8lxTqExRE+lx\n",
       "rhI0Q+eEttzAyGKm2TDPrAVeThWNq9C+lGvqlYbc6rW3wsZWd5qIezqz2D48gaaViTXuDMU4qJ1i\n",
       "vgOk1b1QDpG/VXLm68sTj9JGwzxFzUAAAAMAAAMCNwAAAqZBmiFsQ7/+qZYAIj8jrQXfz1vgAlhg\n",
       "Zt1vt4AX3P+t76oONGfpimr7QxGefkp3Zbvni/HeMcOiPgGcsHy3eIv10WLfq5COHHrSrpHV2TwF\n",
       "sDCWh3SZHVCmHfqIGZLZocqYnl0Usk7QtX9IGKCwcQgbx052YYeOt7bWcD8EpmFQR9NQ9wEx4HZZ\n",
       "0XeWuO8xOGwFBJnrc+/ZSm/5g67YfMr1wbYscfH+Ep/63GFo4wHPyOutVTq+YJshf9SfsBgtLUeh\n",
       "t6Cvr9e6Egre/JFsP8e5fP7GBu69xw6dfH5L0VZ8mGOaizYcklSl/qvEHDrgdEJZLeOLuBW79Qb+\n",
       "w32+pdw3nN8keNmFnmEZBzMMu8am3LuH+LNqb/X0IWYHN6lXz771BdkxCSBhHrxg71NeiF+Ofs4Z\n",
       "3YVf/k6wkWSfj4hbJ7qLGrrTMbTkQM+4EXmgtpwlyKUBCddiUn5lIUJQw6zLIolADUJmxJZBhgfx\n",
       "LaTw7VlRRsdiVRYcy1C7vUF5VY66j4mbwdpgmHZeyIiV5sED7LvCEki0bSKhVk7HZB3zdNCu0Hfn\n",
       "7Vx7R6e5h2jisYIn2jrlaQXzDoU9KjshtD+TbSL5JsF7EQL8dpxKgTSY7MGysBf5n1HLV1iyScR8\n",
       "av9zbo61yVUQWePBjg0b0ffcg9hGukZhC47vAouJFmoGFmrU1ainElMASrkk0eA5h8kIDg1JgWtt\n",
       "OzWfpnIeOKRFN0FMbLHk4iOK7P8VD+lma7FM2uHfyFTW3YzJYYvn/kI5nuD93Gs8Xx/4zoeuJmCI\n",
       "DeT1psaQsaDjqrcKDGyzhdFH/7R+27cVOFjzMYrWY4qM8VGEhSfNioFHpVJR2HBdFtxFQ+3/zAGM\n",
       "WgiSAf3l8JGatTQCydUo2eDnxcwV2i6YlK9UEbAAAAI2QZpCPCGTKYQ7//6plgAF44OHwTs6AFun\n",
       "9d21YEQXLo0TpjMRtEw8XZ9SEnl/0c2okbYSDH9s84sIu8fM7x6gnpeJYWOG3mUxhoBbay4rBqTg\n",
       "f0vF6HnVufmLs9/x+37uXZKyHBBpYtxDUy0wm+i1sjvfL4ALljRhSTOgtQc/DY+C6wnapVhzjCPp\n",
       "zT2khrmmXDbgBTs2rW/p0bePPjPIFBCSmwd3fbjttmPENL9lWyefW3JJy1htYLRACS2/p6ECd9YZ\n",
       "mfB7hInREZOI/nIZPiO94IM9OfetEVMsqeTFld4FSPyTJVbTNH1FuAvw6mBCYXclvJHOC8UDSU4W\n",
       "iyRDjAOxksSX9LJ79URhBXqtofMPY7OTJx1Yi36lwv3bBR7TcfA4CNhHp4ma45FT2qtDuehIte1Z\n",
       "VE5Xf0V9xCD7J1L2sXLbVC3bJQlpM52GlWe7oNYCZP7SgEHak0UQhnNpLEqx6uTCuGtwYPAQEZEt\n",
       "2totIbTgncXf6eJn20yTEsZk13DNSqcyYFWpYhkF1ICjZl/J76YAL2O4UlUCU9ESezPTm82zC3DO\n",
       "xp7GIPkJXJ6duFydfrARWApqc6/bSk660EQ0+eIeY7j2B/oaeQvCReMAUYxRhRq5uwMej8mjRzIm\n",
       "CGnn0EqM2GsxygcKhtWPzGykqXRYomuhaDgiYFu5EIxz66izRkZ3NjY5JI93vdKe70kzF0Gi6NdE\n",
       "AhlWYqxAqlF/ZinuPfBTgiZR+7ywJb9UfWowQcEAAAIrQZpjSeEPJlMCHf/+qZYAEZ3kN2nk3cdQ\n",
       "IwV6Nw9IyTXOCKm/WvQaYwr9o2F5gP6W0itsK49FIh11saOlVMTWgfm2XHiANFCHgp9YTiqX5Vp2\n",
       "eHR0FldLtgHsr90mQbQHAV5qyQK+zXg1pvUrGE7VRQqZkS9V2r+7p6fniC6agrdWL4XOTaFhuRko\n",
       "y9v676ZU1YzIQ6m8tboqvBQ3GRbHEaAP3yieQtjFTpLvrsGMaFkmf2tdy35oh1+3MUF/F8Dz0PIM\n",
       "qDBD6QzYLslQF6aj1NhJXZenoN/KSItiYjY0gLuY+bW36yodP/K42zP/5EnR3ZZd1QhYhsDvPsdU\n",
       "V1DnIKAPDRbBcmGjdsYxw7wQ7zMdMjIUwkO3pNqT28R5RE4cTRFNuY4xh6hKLmEj6C7ucg6s4m/H\n",
       "erZ4au6ZQQKyDbXVUFRSwOYBl1QpzYwu3KDRjM+N6GLld8e48AHMRTn1GT9jWhSsxMrSVWFyoR7L\n",
       "nKmIEItNw75z8v26+Xdzji6lVpvturE+PVhYFimKpyZD9ZuyBaMRoi3ftCcwERuBmDpYyrJPYiU0\n",
       "fj/g4vVWiooRh/v75e4PfSo7E/8s2ervco5MXIPfBc75ZbIIAvXx0XsS73BwJZZgBGz+/35H8jI2\n",
       "K2EtrW+fpN/ahaxX+n5p7PFmyawko4XoPcj0p/fXfKvECtD71RGt33Q9qLEAXsZ5n7swt/kHOk/N\n",
       "quLtW8UexjM2s1F6FuO0/DZgAAAB3UGahEnhDyZTAh3//qmWABeNkTjgcipBQfkkrBOnCc2Z1ZBq\n",
       "dcMle93tmrPgba0WfmrsGMig3iw/NDA14gGzjh0Azs0cTfyZO809+K+xEwSpXcv3ncY10g3TICQH\n",
       "zBYwLoWvnkBT+V6MyXk3SNQbH4Uyao5pgPoM8ZRtyKLjW0KeTXxPrVn8qHW3KqNOMDHayJnAkO2y\n",
       "2wAeukrCh9oXj/cgckpWlUYaoZagGmIZy/TE7mPECQKf5auhs4iqI82kJ97p4Y034t65ZV8Smn7e\n",
       "NMsTtAX2n7HR7wSpiebNLAGw3jBEcBgjUzuAjBHO4hGy9jhP4eZWQb4RTD82ikpUG7ryq9XHYIEB\n",
       "DKYk5JHaBZ4q7n6F12MGFQtsIZAlW/vOtNVjrLgFTxlWFLQ43KybFzeh7dd+/3kHWcBZEkeos5v5\n",
       "q/C4lSMGMaM/RCdgrBlSwWC7AL71V8TiEKUQmAMDGkCWB1U1Zg3ql6Z+8dzUc1g1mImsV06GBy3L\n",
       "mXJw2FtbqQH26+/t9ogP8c6Ifa+8qZeO6DVscuX7Bxnz8dNT7Wru0GmdGhpMnTZ2o2+iVYfEGr4f\n",
       "z+dM6gxssqZQO4UOzUNKhSwHZMnfamreXmCoK2B1gKmPiOVw0XbwWnNMwQAAAspBmqZJ4Q8mUwUR\n",
       "PDv//qmWABgILK5q1owoC+f/zU1SAF93rN5b/ihRWkWLLSQaV6W6sg10/XW9G1syhvcHgnht6J+3\n",
       "wzUTmAdIxkF/WNchwTfF2Nq6oHf07rfJx2PiBHZaNkIJ8eBUvu0YwzvSY1Pdywd3dX0OWNRhd/YT\n",
       "Qzpu5E7jyig/v/CXVosmaiQziDLTB+JUiKD5Y06eZOBYQAtN6NXouj6G7FAsLMOOkUap5XCBNGHi\n",
       "5mJBKSq3Dq/c0klE24DyWekCw3HtYoshv3oloqErG/uoEMI8K/6oZsPKktdPcjDvj6iHE5RQApEK\n",
       "iZwAgDpB1Qyn+1uMAgZ7e6ag6D+ZACSUa9+5OZc0uu0y80bfGwNG70JCdcOEaxSN2p2OczWL1ljg\n",
       "lmuixx+7LQOqakLyGVpUzWsaE+YjgWUXjILS+mzps04Ct6yRf7E0tx1gnisMH0O5Evh+CnFX9pvh\n",
       "NoFc4OxlBe8JlmZPoKgxRsz5uap2QYN0JU7fCZeRrr7MuowbDns7yoijdHQEL9aonIf9Ls2FcRJI\n",
       "GF8fG+NGRLRgtht4p3bryTsUGn7jT+P4MKB+OM1kZfLETfprUGj6RB16ocdBmt4DA1/YF/sJS3OV\n",
       "f7P+J9j1rcFsQQmUyFjogGeRYA8bJFx0yl/Eqz2TAQ1iworKYU/g0jDffo9+Xm5l7ufvrgOvE7Jt\n",
       "BBnGDr7qWqO9hEIHMPGhNpNravadr97i+ckpYWiuoBs+VQOrkeA9bKq/Wqne5KQFiLLDLcdUj1fz\n",
       "7+tdtyH3vGm0/9tR3caW3VA+1/DFQlhrzlPQ+Zv3rwSAm+jz93Z4BSXdQbnwNcLEqAZqJuqWC8Y+\n",
       "VAraBpvYVBMreMn1x+a2NmeU1oyDKzKddUxpMQc0DYqpUwm1R8klv3XNs4OoETUeKo1O4RMe/1XN\n",
       "eNJYBan/ZROJPFGuCIqwmeSo8u0AAADZAZ7FakL/ACZQ1d0njobR2kV+gCJXeAaHeMz/frrGw+vw\n",
       "JFUnXHMzsipzcQYG3gZ7UYk+qUTigfmHDyXTXWg/RMvObMKiP4hG/034KgHQePFSPjBVTy6wASLr\n",
       "mMq6EHku1USg210dCwD2soG5Rbu5SZEI7fYL6AsG+xRRVlzo3DDvV4CmUYIHeGoiSRvCX+Zf4sue\n",
       "Bl+xDXIRVGX/vwOhd7b9HqBMzd3eZvzDlroJGimCERqnEamup/vLSsZJ3GsqPc2IfEMBOzakOP/a\n",
       "K4bBauTbNMU9WWCLgQAAAsdBmslJ4Q8mUwId//6plgAYzOf6LMz9TwADs0G28l56eDTsH2D0CP3A\n",
       "qfq1An9YsSUUs2E8Fk+Q2sPzYUVvRQhUZV8JRyz7NTKmXP9RMM/AuaexnUhhJKLHVWIvzKqwXdJP\n",
       "8o/NjgZ2CR3T1bXs6GLffUwwyVZNdjyIjaKOameEwI7NaCVq/A2FRXwIy3Nb1A5ekwnURHCQCb7X\n",
       "az24PlEyM9L4cwmyJhPwiB2Gx8j4xDOK38LqztqvPP/Y7Dz7BlZQBo4X3ysyr1ea3MxiJWShjmta\n",
       "vhTyvlK/vvcyh8WjumxBcN85Fg+K90874Auis18vMgXEwbeiM5BrsA9LYkFtJUT/KPo8b6l49y0g\n",
       "SOVNKG8M8HEM/Cpb713Qq8XhQQuJPoQRVrWi6Opl0y/RCDzW4oEzjwWNRn5Ki68cJOgjLUsghxbn\n",
       "1K5IwypQqpDngI3XrFv09pv6kUJK2o2woGjpDB6RDF6GV2ju2Mk8N75Jn+3utYs1OgFfP1sxz1lb\n",
       "j4gUfCPuV0uzmFPsSnvmTaKUlwnbZzWY0WKutsOZho1k4JfgYPsjl/4ObzPbnrAenTdJcF/7QXf2\n",
       "AtqoDkp9An2sqhd0z/86LcuQiiWwL51knS5d6eZM0Yjm9ys6cqJS3L/ANxMR8Ez2Em169bAHk+cs\n",
       "kf811amOJcvuviefj3KQk5Msa0Ir/b1wyw4aP9Wv6ENs9pLcTMk8h7qQd4FtGCup7ItV4ypP7rgQ\n",
       "wxDEI7KRFgFx6SEK/wroiox3NdvrwH7GZOcjViuJh/gr4hiXnAXzhydqNVySsrao70QBPEqz6w9i\n",
       "f0pIkbOA8TZn+U1zafkQyeU3OcOYBHHSa1XIC0xyFefh/enwV7jYfJ4wK53Abtq2F6BLemmpKc3I\n",
       "yME4NPb/ERoHDpeU1KjAfhOoNUkSyoa8E9OEgZ+96u9J5onXoTzlzaby29EAAAEEQZ7nRRE8M/8A\n",
       "HAbPgzHcVl7f0AIy+KvC2v809fNq9s4BqAzEfgCYnouMsZVj2o4wJZwfScsomq+gEqkKFQL4yhHx\n",
       "tZVvr/bWI9fW4WlecaqEY3aIjlOMEOp/S485EVXbQiokEVXWBuLWQ+Jcf+yseTYyttG7uKUgGU16\n",
       "S6x9/iBxDgctyVOEh3dSrNvvhYq6GOPcj0JOIUBo3uDH6/arkQ7jDhjXHClo4cAZ/RQH/3g6/Hg5\n",
       "WlmSnsb9e66VG3W1PE1Tt3f7dtdTV62x46BzMaoQ4Af5H47C25WxaQM1KA2HBmDUMCXG3AA2usd4\n",
       "oWQqFpF034Y/gUJ/qZrlTG1hkqB8H+AAAADJAZ8IakL/ACZQ1kUop2sucD2gBMzt64q+iNg3kdES\n",
       "F/eHuc6E/O+tli9BMZXgtgwa8+QKKtF2jXrpu6m1iwmW0G6PCTIMvxb0uHv6kUz66sKPifn8fTb6\n",
       "gj0UxWJwMWZfVKoFXen5vbVdWYTBc20oS3ZhBnt5iseZJ1rI/llme7OmmqNvb2JJyuWUDctWlDjY\n",
       "rXSuv3/rD9+3+wNQBU6AxbXiOIRbvuC84ejlVlaSobQuS2bbn9BlLAZrXD8rw1BA/G956/3ZCQMC\n",
       "AAABe0GbCkmoQWiZTAh3//6plgAYzOZ3GvQpSt6AATrSKvQ93OZl6xbWZraGwpqa8A59C3aq8TG1\n",
       "rPK+xZFp0HjSvrMUazTcx2BdEVIMKaqXPO85/W9cWC8s5ckcbUOr3rdy9umgBT2LjOEUsH8fDY50\n",
       "kGlpT30rHIDVOHXL0A1MsRyD7yZ+V/E3Gs9QyIeJ9sKkWPLJQ97tAdOuU8Ul+fwx66lzqkNzhy8t\n",
       "XDlSKxphUlGJTkKwolDw9oyZNCrS5J/1rt4uyz3uyJsggZPjQNczhygpWekxM2/5phdgLfDv3NIl\n",
       "3ms/RVlaCoUgyAevktBSfr8/RZlXgprOk0U4FSUNRZ4GwxMwpZf6GtbPKG9xH35UoG7qqgadHavH\n",
       "99qq+VMOoDk/7V+0OGMop7Z23yHHCUgJEwXjSilEdecQtwy9PlcUcJZnurZK/Z02zQ7E9OqFH5/A\n",
       "55pICOqyU0aS0MqakY4RGvFMuRwYAAU4mE9eK5BL97jM77fr2hnfzd8AAAFqQZssSeEKUmUwURLD\n",
       "v/6plgAZbN49X5AB4IAIGYY58KLCPCnAgeZC/+w1lU23ZkRK8B44M+xbze/OqRMePiV+oPf/SLtC\n",
       "J032RpcFMCsn6vgeq1JxPyfoY+rvUedm7ousgazoYZ3rQUqM8JEPg2I2Th90Ye72D5oH4t1MwmkJ\n",
       "TCkASnO7b0aRezd6MUvUJtgzcrVM2SDq4h1eFQu5IsQay6g2Nb+9Z2NiZpA7UgjtlQmITXASbNye\n",
       "SUNTpBYoZn3AHjydbF8v3bcG94UZKKE0RhTE2RNG//11v+/QiVop8wMI/8MnPgKLNzyeDvKeFDYX\n",
       "2VAzgtGSGX+YSh0yUAahqQrueHoyMWjZcoKU8WMjQ1ion/C+sMuPpQrTwAFXPPpaf+x6H0bnVmDy\n",
       "NSAlZvewgQkgGjag1p43fdS4BoVMInjkQvJZGHxKbnbny32k9adEQKCS5nYNt5ClSyqg2m2UQrFG\n",
       "YZB/XWvYCsAAAADjAZ9LakL/ADtpnRVUcIkAnXK/MjCovaYAJpj1iHeA3Q+h6aiK9ujpjID/Uu3D\n",
       "5HRh77t/lCKXjyCkTvFatQzptDoADVuoC7IUPhjiVN+q/1mwjO2+us4Z44r5IaJMHeQuMi/NjgB4\n",
       "iUL02HnwMLtbX/98oXYRxOe1dISkTcfUdr3x+wgQKPqMp7Qf/3UNxoOks7YBN/WlUm7iGdK8ksf/\n",
       "a+vE2S/PxgmktUq3me0uojnPG5hwIfAM5vN17CTwD+X3B9y8yEgojghgiCYUFJfe3Cky3lxW3EPU\n",
       "5858Ty/0uGTKCkgAAAE5QZtNSeEOiZTAh3/+qZYAGgB7Qqt9gAO0opnj8+cW7qZMyxELCIrupFiX\n",
       "QCsM5D7iWR41UZW+ldRsfIVtz960ttAIMxoBDvY/xPZxaTVE1IORoKDQbFopq+DiXRaqUM8zqcIf\n",
       "HD7JkANSnLc2mH4Brg4sjxmdq+IBbFk1ZzcB+lLwmqTB7zWSIfKQqywBto4a+8AKYh9TCZqjNavp\n",
       "JhKcCvf1jKkyJA4hyYF30LYZ3IayUX6QY1N0NE120MMdXWw9uArTiliYbakX8Z00dYnFHhBRl5If\n",
       "nWfg4TTKkjF3TX8e6vuo2m5Tk4UYe20s0ym/NF7bKNnun4uFML3rroiaGKlox1PQrMwyEifse9Id\n",
       "lQov4rJqXGuheCGXNeIhFoQzePTDh+cmeoLHq2lzs9cDSSzbwm/ES//FgQAAAc1Bm3BJ4Q8mUwId\n",
       "//6plgAwXtoF8GNGHsRypABoPzzU7lz9Wt0lXDOkpbAnwHqOr/jafMu2wjiHGm/FgJMF9d7TvMmV\n",
       "LPXshC0xmEpDKF3u7GNkZLyWEYFuGn7D7QBje8CacvnxUDe5Oig1d0KmJjxndQ4bXGqy/dzwqrgY\n",
       "x+vEQ1e7NAWpwkap/9VN05KTSFC8pFH81vTGQlqnLcyRiSTcCJx+8TZkUGG6VQWpnD6rlWIhbXaq\n",
       "CW/NtGaF9Ath/fAhOdR6yW0A+sRUh27Oy8UfDlQdt/3qghic/EsTLZlDcRhmy+eS0GgT6V3wa7Ux\n",
       "fy5cti/y7k83raTfmSgDP+yD2RT0pR+5TKaGe4wm6W2G1F3PHIRayjBuWGiZfu3q7MSo9KL+d/Zb\n",
       "2utgkLmzbAHG7Y5jvDUi5VvRbxgZtpactzY3/CQvIBHg2Qzp4CaO9HeHVDsCAbMd+g5Wx9YiHSC1\n",
       "vuAsO0tZJgVwiPKMAEb+IjrMNLQymIYFi7cPq2Lt3GJNA/F7VCdS3twfxnBjtDcJQ8L2dwCD54iJ\n",
       "J5tx5DIV6MO9yzTyJGvdaUrFQkLziNe+fu6600yKNRetWReH7QtA7kvns871Ghrqono2YQAAAR5B\n",
       "n45FETwz/wAtdNHbJuC6rNKy01zoyoUbiOezPtaKADYQ1G4NNoAAXvVf9r7SwpF0FJiDFrLqEi44\n",
       "ralxamMTeRwvQ4YzVtfxcg9N9UDGKg4rfeKkurtHFJJT92TZHmj0p8f/aFeQPVVQzeBDezuV62gO\n",
       "jZIG6AESi21NO728uT+YYfk6QB2CeczMB0tH4/GecscmICVgyQLlVAnKa+obvOa+HKFRTEfQt09X\n",
       "Dtx6t46Z15jblMm1ctjW3x3NzjQ35xH1XQjAmTnJ6tWktyCbcZ5i9h+QLRyBMLoS+F/t4jCcKu73\n",
       "/YkJ3jcKfsax3JV7784ioMJhFOjI+IqNlvwVZB7aOyhKY1CzTu1jFK67jxvafdnxbmU44YFMGIOB\n",
       "AAAA5AGfr2pC/wA8w3g1LWnssxkbQ9A+ABO3p9znJwwuLQLwMjxjShqiY7SMW3Sa5OM7J4gZe+rf\n",
       "o0at+nRYRURMUvvcl60yRSXM60vKeAsfDZs/c0NXE/h8Q5cbTXq6D409u3IRPnjH6r5wtASoPVNY\n",
       "FKw30CFGEeHrrP1sB58ojllAkKq1LRz7BFJVVey83GY2d0mS6uY8dOm5ueQ1YXN2ifpWXk+XqV3t\n",
       "Rjo3dy6pQb798zQyboyjdBbzkL+0wDqdPvuAa5ZgB4/cOycFOeigMTKpgClXRcbKa2Ic1LBYMVNH\n",
       "2V4LuAAAAZFBm7FJqEFomUwId//+qZYAGylC0ADRvTpuKN9gCxzf4f00Ah02Z7CmW3Yx7JfZAxeG\n",
       "rgcKd2lYBp0jJKJLX9rae8OQhkb6Sat9UUU3mVVwoW0xKEJE84FERxyuvRKljBfVF/n9SLFPbKTL\n",
       "LwpA/4580ks+JnoP2RxlhgFWg8ZDd1T/mGxOszglpPhLAcW8jMiPcp+Yk8JGNlFTNlhRW/O2UuvR\n",
       "stpL43c8ae5GddmyTxnXh3d9AX5DQrl/5MAmmxYkACvO2kYR6qzdHjFJBIzetODHq2QqbT73hHwl\n",
       "oCCMbk33Q6NTQPhzF7QTEFP+pUKrL44IIikAAM6ojnGfVZ9+OQ+FafPLAh5Vf/94rjhTVPVskgsC\n",
       "Zrep0uohPZLhFMTz+6q0voWZzVHhWQFOePNzsALzfanY55IFaC572BLSPTx9CQ8DfcjHjqCXvBHM\n",
       "4DDhmC8a1jcVJWZwkVfQZTCkTGHYv8E9IrVC9yAXc3y7zBg2VUdwnAiIrox4x1+luWYFMrOHSoNs\n",
       "2Ao6DKiXGOtUMAAAAWFBm9JJ4QpSZTAh//6plgAbK5hDc3TerXi+rQ+AAdCQBgr66TjdPhF/Hnau\n",
       "5Ovo+4RApJUlJUViEstWSw0uSCEDprd+ezwuwhUo0P/YhS+0JoYyFmNXDB1hPh5cxDRdxcM7FeYf\n",
       "2crdH4m6gakNNPyjFuJzPRbIKaVTn67sHrJt4f8V3xbDmuM9Y0UM4GAPWD/DiAxp2hqHv4sD+jne\n",
       "4o4ehIUUulSTU5BTxuYcqrWi6MlJd8G8LCLiiNi98HbS4brGz/NyRldKFwVm4w88AlPbHkF+4cbh\n",
       "nVYtd0BZZ2ai+jV2YXQqWNOapagZhBS6M+RnYQUcQw6GZyrcL/HKC783eA09Vfo0aPAMY6D4YcPw\n",
       "UHb0XLnZ3dhcYQPvIIEt6Q1clsv3jHHckymEnR39orsyBydQrH4aJiPtpIWTNLU2RhQVdbnZyEis\n",
       "1oNLQho8faOdXlWebPPGqs/dzTNcEckQcQAAAh5Bm/ZJ4Q6JlMCH//6plgANp8YroHP0a4m+F5lQ\n",
       "A6Lw/xiOev9fX5lW9zVDpYLDKNf0HyLeWt+7iSj1iBWEmPicK7Wv4GXqZpeL/LfLRkvEL6GQKDhY\n",
       "vXh8+gBy/o3Kw8LNGiqjBlIOum4rTFqADijUr2bLUMckWbM0ISX3IJseBtBCC4Av+CrjROaOwxnu\n",
       "/RRQ+jTmysZKsg71rmrClYdapsw/5BmuosJiTWuQ5vAZu/mu0MBE6G7FxN1M15GEbQIdmIQCR7eQ\n",
       "JXTfR6FK94rdDb8JLqniy3EiUyDf9ZCDWzHsHkchPOEJc4WzRH581c4XffTd1rONZXXNHZHbigN2\n",
       "3zK8UfmNTdFSUvxY6nYn4Q25rusNGBAJsuMwKLglK7RwUmpyHhrrpLqR02j468WRpVzsLSYRKSmT\n",
       "zA9JLR26xTIES16wmUOrjERbOIqBn9Kd9F7xR48JU1QUXfad8vVjtQJrKX1cEnzxzupYt5jNyRKF\n",
       "cENjbyxmWhn3VnRnteCfDiy8BFn/aL/CtiVRQ1GdQij0qg0GhLGe6qPO4n8PCwHAZDtv7GnQMDJp\n",
       "0155L1u0kZ1YHYUBMVmOfAiHIULTsBgFPOY6Ju9H4X90ea24ckzdSoo7RXeZkMsU9zfQBBk4i4hk\n",
       "YWl70dmz+BHloFAj0fc1W+4u+kpUIQLhkXh8BUgcqyFs2fyhRuHs8H3p0gIvnLRYie83ftDVLGgZ\n",
       "8AAAAadBnhRFETwz/wAs9KPZ36tPltRJoATV0MfGJohKYgh6FlWPVRaAvrB96fnjGvpeF9XojtrS\n",
       "mx2ct2L4Prt4EFYau81mxmRMfJbk8F+sbboz3nYCWNxOVITOBsYxCrHS4w2ARBw4lJOd2EGMGUE7\n",
       "YDeuXNSclp5Zp+FiGjVf0FDjgdXvjSoWgIN63zim3asOK7J47rtx9MtQEqspl4avFqZwLZf3fRP9\n",
       "tIRtVNktNqHNsyjNCY2IrdmA6JzyV5ymIQoiaw74KmUjV73xvpuCtk/MAQJEdJY7GwxAMs7bnsTf\n",
       "cjkZMZKlwKtKeRvvgw2Ek4SP+XOPWOzRR99/TgECKqMYMMZzZJbnZvRMRMFjCme4zNGob+kEKChu\n",
       "95ErInbKE5ACbLiwUS7cAb7jMQLOu6FWfhZkGJCxu5r5o4/bLq9ZDLharU2DsIF7qLMNK8rimnSn\n",
       "vZ7eFTfY8Ao3YDKAeq4vSAYSGx4NrzROam1JOyZZET9wOfOvIPtkEiuUF6GvPHaotQ4klYTROh3T\n",
       "96XqUMvgFANscImN/mffvOoY0lSBFi17luykmLAAAADkAZ4zdEL/ADta1T0yRt86uppuc5tE1GAC\n",
       "6gc9mWctEdulbzotbF7nwsYRO7bo9QiEKpZaOSGh/XKzZzWWbePLa9mVvfN7PB/uw0oABlziWKu2\n",
       "wRmOjv9n+wgWuj2qCANpa9VWEqsSCq9VNHfwTtpSiHIXn2strwv/0oFd89pH7kDYisrmQMQyVlz9\n",
       "YtSllbXJwmBDX/1mlgOGcVTyjgjc4OWelNta0+L/+UkvXTOQAd04RL/iRtAv5M8CCrYHbAeYoyYD\n",
       "qS5OoiSiLVpWQVYlrxtMIxpUJ8Zt7s/uvU0PNlYTHBnHAAABIgGeNWpC/wA7aY8vfv01loDExFYJ\n",
       "bvAA/dDRj2MB82RHtoCWl21X2ecmGgXp5hrY8vllW8EOiRBZ0I3BKQuBEtH0tUumDiIviRZybKjb\n",
       "CzELlvhM8YMUwiflVxMtC42Nb7PsNl4kSawW6784Ip7rIlXN4TSLPLN1zFUfDmAsO8AAV+/VTqGe\n",
       "D+jtpbE81jbovQl6QaXFhqtT+b1eDTr7MLZZtHENDR62GNWkG9A+J8iof4y6TkoMlxn++fhQ04St\n",
       "B6/OXHITWL/NAFq4oQCJUrnRkXS2SB197luuaCYZNngiOfqIcailgxJgeOAyCZCQ/Cw8GdRUa9OX\n",
       "OWOg+3KfE3voFEaSzHm0gwJSyvRXNv7nYRnO/FlM9o9f2HeSVYRVYBmDAAABlUGaOUmoQWiZTAh/\n",
       "//6plgAMF8Ytcru/bYou8S5eLnBASph7TWYEYH6I6o2t9HZEh5g4b9//Q0PN1WQokNf7cAVxPyrJ\n",
       "LsFiS0J1gmaqknVg1qZMQ8lJk8chcnGvu0UPHWgiKPpcIAdpoUI1MKx02Aid1IAoTb0OTPS41ojN\n",
       "rapSiWqDIurhP46FdfR4bwi5OYC4+w3mr9G4sFYvykqgdjXJ2m3WAo+as2g5HAKenUJbsS79GZK7\n",
       "0oTX0rcadXSXwXaNkgyArwTGwlo33xPtChEJIPx1GZ5ICj+L/CPKJyNqbtYTh9fqeZ9vjgdz93vl\n",
       "0kWIKUsXX7ntI2827Mab5WzlecPi3/NfwJpiA2gRdsA9fkAun6ZU4aTTVUtEyfl0NKDl6t/z+rvW\n",
       "v0mMlgygqyZcl8si79Jlf6N395IXTpXG4fXaS+GtJiBhRqivbHel1kvRVAdrRkrtNS0afvCEkHz/\n",
       "3o0WioQhLkV7npqVf4RMNJvtcFnYYmzBoBgB6BbxT6F5kDo67cn+bjs9PTH6BlEwflUGVQAAAS1B\n",
       "nldFESwz/wAtdNIvdi9DFo+G/1cXBxyAoniAD9wdMNxOtcShEaZLZtg5RAHtXoWKY//w916FYYUs\n",
       "2/iL/buuj6xIGuog1FM+K1bWVvh7FrM+GsAHFAbX0BwVQSSb+VnNNv+hHfspb63O4qzJ5sLuacTV\n",
       "0131woWY67i8F/F12greowt6tDB1mvFzMs+y4UJJTU5owHjwWL3qeIW8c0xBmAWesPExsXpuCA1c\n",
       "oBaR8XYgOISNTGqLPs/5TVfflBbC/R/gOID7/xPDYVRp+Ake804q2aI1hA/LTXSdXRR3BcRAF0D/\n",
       "czTgbcOQCHbQpxVo7ImidVD4aclszOJCq/FDCWa7pkHflIa1lXgS8rkUg6NWAIyz3vtovc7f+hrA\n",
       "FH9atdWpVvk5KovJUyK3AAAA0wGeeGpC/wA7aY8vfuxllJ8M2AAlqhcFaMDRu+3UgPO640k85/lB\n",
       "nMtyYRZ8hdLCRNabgeUiy0INx2bMn4XyeAYLUvYwSl/hV6/kNMXSl1X7XVULg5nmhFbWLNT+zr8Z\n",
       "Lt2eRFYgVDwxazi3tbwmYr+9Lbmtb1W3XohEoxID9M351Iz+j3wNXRzduD6U7v7flg20EHhq2Jw/\n",
       "z666rEVzUs6PdayyUMxfl+SxvagmrFmSphEyBN0nuo03A6E9QxsQ/ypexMysOuGR9wZOyapv8TXI\n",
       "llAAAALjQZp8SahBbJlMCHf//qmWABeOyTtEA9ND+XfAeNmTliQDotdG103LeaFRj9ns/sDEaESB\n",
       "DIz3P33BAv8mIZkvQyLIpBJB/KvSpHhUQZ+/WqKi9N5ipR7qTshbaqAMf4dvOrgGOftS1H5rTbON\n",
       "8CtozGYyr4mc6EVbpwZSSuanwPX8GnFVcEwJFeCGCPFp8dU9S81S4lTYw1/SAn1Kl42CXlNlj8+T\n",
       "cYKeBX859X1dNz++w1WKYOczdHHtN3V80zf4EYbotDsFrKv144tzUG1XC6TcG883ZQlyRpywSMLr\n",
       "YCzLRWv5YwxoTz7LlFiVXP+BtHSj47SqW1kzu50sGToHhv3jIjUrpixlQmxpNY00QfaWWx6y2MQG\n",
       "ff4tAKYjVj708CNV8YsCVeJ0JcdtxlNZm0U/3SGCEasm4VFzkAF9BcETGf+fDMSh/wPr9T3MC0te\n",
       "zK1hxQoD+lrVmyNIRwfSqnFehmnYPp0vqozPGBvalit7NGQoh3YSqaa8f+mxTDk8D+myg+x3Oo+e\n",
       "CbzLzvcV0MMKb14gwlXVnfMdaFMCBcnh1qUXuqdfPLWMccjB20HIPbrlkrIbJxmxzKKJBlm6JBUV\n",
       "rzGiESBtjh7ESRis2qr+Obg3TscgJUOtNnWrXhpyyYMRAaq6IMJCWzPutWvH5okGaFB7+W4UQPhJ\n",
       "NfyGVimE9nBw0kPQ7TuGnO84g0VoapEuG3UYFpJ8U5evVWucGcDeyHIxcEzR/SR1f/37D8wv+Ap9\n",
       "9lRkiLePfNf/SEe8uVRaLiq42Sw9ey50hU6V6Iw7Ta0w5WgdaBlot/vnzAApQItBMcotq8TwEfhH\n",
       "DYVNsqTpTH09IXGOi1ML8Xrt7B32A7aDpn08sckzOSMU/4KYf10fr9BMhNIr3m1ySqt8sPd1FrRj\n",
       "aXYioXw46XFwnz+6QIBbo4VxiBfQSKMP5YySfi5PlD0DLvKP0V9XlpK0aW2cTnjqa3LION51+GC0\n",
       "Y1NzLwAAAW1BnppFFSwz/wAtdNIvdi9DEgeqRESHndMtuKdsS33DRBQMAGxdkqc6sx6/D4Yqcx22\n",
       "2CfvlRz/1Lsrp6uDzNLff8EVbNy8S86ZRNoYZW7twmK9yl/RxkiktFK6p0+8Nsq5u1Kb+MQFvwEu\n",
       "ng+p700CWquhNKET4hW247JtGCMc6ZP8RrqHZfTwQPFwQE0tFqpoMhPS9JqIIvUqSYjHyZFZgc9h\n",
       "K/ai73MREsRuu2xzfqi8aqJWul4LTlvGv1sFyxHAQmkufCK0ML9wqXC3V8rvfr19p1h86gWX0SWb\n",
       "5zGzCijUMAWcanLHhXNDvpQlsFaIwUn6Zn9gb7Xbm+IBqpcccYJESCja9Yl3t9pE9fdaKwxMuooy\n",
       "aXhQE48MYed7zK2/3llmRgfIVY2+AuzLudMFOSKAWsWNyFEEQiA5/kNLzERbMCYJGnBOKD7/+Mw8\n",
       "PMTDQPN8GJZ4DKcas+T2BDLNoc5XCH1cdfrDRoqkgAAAAQsBnrtqQv8AO2mPL37sZZGMaHA+nL/1\n",
       "oAJ29G7jMv/8oyJI2LIX2LjSQ44PELj2/TXq7rWiJpm6wXoiqqR/urC9JIxmMBpJLURSiMEytHVk\n",
       "qdY6CB0sddTgJ1s3jKNgq/O9/lJ4zWYDNj4medOr1CWBwMfgEag2dsHcpbxwU5bE4Ai+6Z4tT0Aw\n",
       "L8aT4Vp/oIfJaeZenfmbiJWPzipSjOzlYdQxSZDXsXIvVxwggtkaHzrjQYdESuRsPjQANF4yOBaX\n",
       "mT/zKr8Mjr2n/sNUWM4HdoxUiCnGUvfNlbUxVCLmYvbJ0CT1/YJ8qqszeX4kEmbvE0IN5ImHAQDb\n",
       "mzN9+d1y4cTEZqCKcOHbTsEAAAMZQZq/SahBbJlMCG///qeEACw4t9NVpcLpg7AUQCkH0flWoz9o\n",
       "gFrdQUXzxIEYMSt18wt4H1iB8+QOYxQrMwRpjlQW9iDuhIDBDrdSK244Bxob+8b9nWmN56SNWezP\n",
       "BKI6FHww7N1YgtAcGk/QOAMcts84AedjhO36AAtxWBPwQ/KCO39h7EH62q1d5NqExX+2i/jCCWfd\n",
       "MZGyhIlQiyFm9z5arDBQB0sSckanggP+ktNu4VWMbd+m5QrIUCkoSKTw7IKtgwlFgZQ8o/6FxCO5\n",
       "EgLPdgtv/K7roYenTN0j6aqavDCM60GA4t52UF3MENWl+JFK26ooSKbCXEFUcpDxfStrH6GMTOk+\n",
       "t4DnhVOGcL5sKUhZ0J+TETxBfe0h6EhBz5ezmWl2RdEyNamzkxE5/P3EQhBrzXK+CURUbQtwW8VM\n",
       "/pd5y6yinxiFfiC0b0oUULeaek8HnirJaKrsA4Kkma1TSKryebO0tK9RrQ6S9+HdVKcwdvYS+NJe\n",
       "ZzoBKv4fzLGSzNTGAeVeQ2rXAVEA8FVSuCD5nxrrEIjaVL6pjyJ4RGpvyQbLdUAolJlvYUn2CDrV\n",
       "FS8hGC60qMjdcMnwULa7QZrypl3HGJaHm+SECPNQrOyCLNDXKxe7bMOd/KVPvPQPdbotjIaMBo2J\n",
       "3mYYbmfvr2T8JAgsI6Jtj7cIRydKurN7GB2moft/ynOE+EcqjnWRYAJ0LY5SH4CZQscEXaU93jYH\n",
       "OWlNtMamy+HbpDI1eicQDIPrZMPJO4HyhmIc3rB/b7vVo8bIIMA9fCSrODFNvCWy922rLXH74zSs\n",
       "KdSNfjaKRnaXp46AL/S1mZyHAYx/MDUF0CjqH+4L0OUb5CB/v85ozj6p/rWt4yt2j0gmU+BjDN9d\n",
       "NdsC57uT6TEA3PC9NLvYTAMxs0NC+X0nxCgwGC74tRhC/R/4UGIsPnVqRcMYQ0OTDM/JpaWby07j\n",
       "ZU/eQb1/duR3icFnnyB9Dxnk+VOWVVJH7+lZB4IEzSOIKSk/NYMvD2HH34/muxtCu27qWOoSUY5F\n",
       "7nfoiopeqAj8wh+JzsgY0QAAAV1Bnt1FFSwz/wAtdNIvdi9E9+LzuRixqVksiNzkuuMLW1r7gBYt\n",
       "oMWRNsvOLiB6bYK2YirQBvXHRYWN+M364KH7Vp+pYmI1xQAGoKC6DP2Ptlt0gHx9bc5LJc8ezjVk\n",
       "MjylcWLhEa/Mx/x2Uf4SYp1Ak11wIKqVaUB8/DOxQyUxXtNw/pa3oDh1qaIS4/VvsCgfswMnziS0\n",
       "HjbB/1Nn51XUCCXuXW5cn6iMlip6vROhrTclwUWRvnvHFonw9FFC3HN/0+gtmrJd3BO/gZcwonfw\n",
       "lb9RVETWdUtMS67UOJRn0/dh0hhkFLbrUYLlBjlh+NIZ1o7aOJPOmuM2zq959Xu25w/JQoG9StR6\n",
       "fI5dC5sKfIzRuA6Erkg+zlt/jtH3UgFwmK/usOQfxm7vJKc2nrfHa3l0Y+NBHDDL4YSdJpRCuwsV\n",
       "BIPTbp751mTHXvh5Wa/4+EqLAh2CttSpy5NwAAAA7AGe/mpC/wA7aY8vfuxlk39/rNlaNkFAHGWI\n",
       "9YgAQ/ZdK8ALdhfXNnzSl8EnFYh4jsalgsU7ijyozfg8wo+nH7IwIGKc8unQWzz8WtIm8mUDD+Pc\n",
       "H6FdvzjWj1fMgLl09b5grcjNyvfe0v2pn4UtEVpD+hxzVdxakjno2/k/dwrSCIZu09B8+YXbQGdE\n",
       "8uoV3cxVrVUfhFt5fQ8LRdfRbWd2oxTtefI6xGTJ+dhAPGPZz7H7vUT0A85Z6elF91QFCA4RCLcP\n",
       "uJTgBq9djMNPECCb2yh/5x+ozlC7gA064gKu9vbHI2NzXyAYPKLgAAABUkGa4EmoQWyZTAh3//6p\n",
       "lgACcFBsuoYmkPL9mSNDW4AL2LfwqXVnY4UrNPlJ8fQ7JPGV8abIvl8zZFrR8G1/jqGBlDvNQk3N\n",
       "YUddArosiqEULgsRjeeD9Z2FAXqHhEY1NtPy7MsYPoYdS4B5aDtP5GqApVTEOuoDX8Vuar7yOHhr\n",
       "08otrcddefQ2fZAAsFzzzU0LDseocFSFUKodwV3xUsZ59HtSif+Dg0HdF+Yuvsf9TWy0ffFHgzNB\n",
       "eA+2fFwlvwHzKNfIsQNqScWJhsLj6fCEI3yF2WXzoAs4PIacG2DRwbbO0ZD+TNX6rmXfDco6cUJO\n",
       "9OE/Hj/Zx/v9Wh9ZhtouOazsouZKtOcc5sirm4azDVFAy230U5CErNx2Ys01lbMjgdzPunoVQ+VD\n",
       "D6iW1SsmMzkRUV4GPaCkS+oGwVebUjkrp6OS7NExd9T44mP9Yd5PAAABekGbAUnhClJlMCHf/qmW\n",
       "AAMpHoQCdhCw3OA7ffiP8FHpS/D4bYBcbC9La6KUPq4ibTBw7w47a9PFF5SkjA4+8viZWYxDK3+6\n",
       "QQTET8mXm2+FWvdqTeOwWDKeCjD+0xX+TZ380Tx8aPStTtcLycbSElnXGKAT4roz84+sJGk9Sn1J\n",
       "CBccBHvMBv05xhrozedrL8Xg9ss+wJz9dOjJKybqtTsWYu3EZIHiOTTDwzRuNOnYo1O+eXmRlAel\n",
       "bhvYPzBTqntotZIIS3BP+StEmp3Q5gnn8OfXbm7pegTrSphYvqPzBmyBXBEKrO5EltyCNxVfg7t8\n",
       "iTvMaEYR6iuAvr1BBpMd2U2UECqLjMvAHCcplFQdaH8BGkWc5p1E8OfCep9NzGJXxaLVA21jwOMS\n",
       "iDfZnxVnj8i7i9e31LM6m7h3Al9flIhNcw0fAO0UtO0rPtfGpCkPLRhSfpy1AGBDb2sMPqFkBzPU\n",
       "pHp/81mcksiU36DVwk/OlUJ1wzR7YAAAAZ1BmyJJ4Q6JlMCHf/6plgADKS3WwDU2bBx6Li/lHJ3E\n",
       "3vD6jTLtu6sLHesp0N8MyBgk+Pe3IdHP5RQr+irzjUpVikOnAEKXSrHsAxS2fJ97GdecQZqR9vxj\n",
       "Y9yoD+yGW+Cn+VFdD7SAwL4OVUo+D+v+iSjP3wSSC52qKyV79rWtX6JzfkhhHv3/apzM4Vq9eX33\n",
       "XS30OiqIuSlCxEWga2ZfliucwOJjBcQ52TuRsSgKWod+Vx7OPvzVy452L9M1O7BrF1yTwHOln0tA\n",
       "jQWACB/wp89szM6jtXqTXrIjnk/Ew0USGcTboRjU0Rbw9ei2Fg73W2UOHhBYbs1+sdZ1iDZdLSbE\n",
       "QpqUX673zZPyMxKuRUmEUQiP6Ga10t4jQ/fQbZOeJuy2PgFtx7IL5CDktPcPvkjVX473rkfQKzS4\n",
       "Oju9hV6YlNErDjkOX36BH8h0A/zSA7wVnn1wLywaANsr4vWDwDYle7o4ZDMYMyqwlJ5zdnpoZ9js\n",
       "IdPxUb9nbQn6A/ZzxIXhsjZ8GhmQwSB6RSILj4vqWFMqCIr44GEyTQAAAgBBm0RJ4Q8mUwURPDv/\n",
       "/qmWAAJgv1jMuAG7IMQcjU8a3u6LlFs/tQEoKRxdxa7OWiPtSoGd4ZuIi9kkk56b/EZuum69Ssxz\n",
       "25tKNHjqVI3fxLVfPKUI+dvWdrtuMwx+CG0MlMGA1GTUziSzZgwVefYh2/sQEGx3tQpx/vpApE7R\n",
       "j6iaXqsbXUWeqf2n0ojasJt3RgU0bz/ykOvvGCayw8d03m1+IFI8bLSNR7SFaDw3cJovkAOsAoNt\n",
       "bEQ5m3mjsX8ov10Hd8ywlBnuYzibWJO4SDOq0qZ1wrJK7EqGW3RmnVBkaHW6tqggDMbyGwxvi4OJ\n",
       "2+V0YVjnLS8Q6KqwzCHLoe+g+9IteI99EsM5qnp6sCrRRJAnBABjJfNMUki1LVaBwatUEHYhBeDT\n",
       "84ggZEbbN06uNX08/P50eR1cXpg8k/9rH3Hqq9dlwjaKvb00wieqzHDbpYHtINLRJw/zfXeWgo2E\n",
       "/IX2EgVe0iSa+RJJc9nX7Ga4qsp5nnP/V/k2cAsxsk99/DRXfHUALAXD+FNwGfd3a3fX2lqVu51p\n",
       "hK8JhyqfwNDMBkIx8Iq9KWZYm8OHmPGyOKV4QI6ngiv02N92QZ/LZl5/Vs24bh4fGYW2/NDmslzm\n",
       "TWA5R3z9MRsAMTqI1UAt6SeIrI+KhcINh8o80BL7lvIdSwhRVGQyWn12gAAAAOEBn2NqQv8AJlDV\n",
       "yB4DsAIEPSz4a2uJSbLKOBCFgpIOXlyboLgLFd2Dd3PZPi3CpszeNObCs9lY8SG1xPSlRsIOPbW9\n",
       "VR+qaIKhReQq/2gLXQVzCcDzJBl5JxHkP9XOt0Qv6SOGJ6CA0AF/CGCMXlluIZ+TfqEum4guWzbY\n",
       "LJPm2XgKswqQMfjap/za5L/rilZezXIrlJERyC6EJ01n11kTDeNc3FQxFx6vyxmy7rJ+sUlkfikW\n",
       "FYdTaNeuA/6KaHDCi2S/VYIyecGYHrjPKHkixo5ZZcG1fErmW2tRGr3toYEAAAE3QZtlSeEPJlMC\n",
       "Hf/+qZYAAlCqIkAX+47cyHx017b2YJbAJKLCBymcNlzBHbAeHwiLRa8VxZxZMt8EbL0o8sr/rbPm\n",
       "ACXcwfwgEiCXb9qxPF+8EqE8rv3GHo8JAbmPRDCXoH1TUfrodQRC5m/ec9Ha3j6LAxFOT4Wz8R/i\n",
       "QGL0vw6ZGbgpjXh54w2tzScKIaRS1EBPsPtS3ODHIVMLTEUG8iBAfzwGYttyBSI1JvP0jjjgyzzl\n",
       "Np8StkRPlKA5g2B1fYvCnbX0mOkpfzpM1TCeBkjIM0pLv9vAdJH9Of54LA3CUXclXFDcuUhR4Bxo\n",
       "AlnnCnkGiq7iPTk+7bLffkNN28UXBXkkLRJOCaedINqhnQRSGYCEwZyVbNG/916Bv9e7f2DbcCE7\n",
       "n1jo+7VTC9Kyi/xuQZCb68EAAAEWQZuGSeEPJlMCH//+qZYAAlDHhVG5gJ8YOI9uHe2AClmGX4ru\n",
       "188qc5t+FiYUMm6g7LGjJakq420kgK45Ski6aepzJtPv3/YAiC6ryRhhr2ZcbAoW1dBpE5dHNG1I\n",
       "xvSqPRO5eRAOQVLIELcWxoUrGl0C5aVHFsAln4Cl/hMQobBbDen84YlVdzFzw/0VgwuZ/eNLXclC\n",
       "iXLkqQaC4YPD7W2lG/OC0wKxCiuxb6wKS2VksF7Ubr5hnHURzx4T29HPDDoxlaiQy8Pe6X0OR54c\n",
       "ImXTHdK5MA8/wMRYE7Jj5OazOLZfdo2VhB/HaucHBagat5IGLxTfCsFgP230/dstBzyja9X53cS4\n",
       "DkSZxi/VAp8fFl3f84EAAAGKQZuoSeEPJlMFETw///6plgACQ/RF29K0avv12wnC7pzVOJIAM4S5\n",
       "me2n5pzllEcCneIbAbWdXLex9NpK9//zDUGOj5wh7SAaiID/mXlhss+FeJ+Rr49SnWmi/dLwgfp4\n",
       "mjZN1Se6/Htf6sZTHuaCjKJo9qfO2rzqnZX4wS05EtKd9qojqkKd/3j7QuzKheYDf7H6kaqnpqAA\n",
       "M+QZZYwjktx3UJiND+/RnjSQvFgUk3hSu8IiBhWZu+dkDQz/bGEEvV7yzWKGaQkuYSV/ULlbpSdU\n",
       "bTSydEGR05bySDi7l6qs862MIQF6P7Viebq7517LqrObRoyu5WpLJko3Y+huxdU84jIrXV6BDPWT\n",
       "eaghiWDllXjAIR7DlCYEJZSCjW1UF4OtyZeGxBevgthnrSONnCsVfvI+bo6+XvirYBvQZBxPyNO5\n",
       "jYeNoXphEMBHGt5ODaNMP9Mn/VzAuDevbHl0zUYGEsUKrpngqTd6+Gm33p6KLyuB1cnL1nC9sGd6\n",
       "TBVgqV3MG/9DCQ7M9QAAAMwBn8dqQv8AJlDVx9dXBVDW6qBIC3m6vwFXKAAFo802CVOeOzHg0SzJ\n",
       "vFt7Ag4ZGKzwJRP79fdaxrduVrMkbEdyBJ7GX+NXvhSu28I1XkAzYsFp31LHbZZ1iAouBGv6NPZt\n",
       "ABEg8iXGySgA55ezXMCBVjUzkpmdRxH3quLmMXgSO5U+SqHjYrWKxmbLm/t5O9fikHaoxC+XRJJA\n",
       "MBMwfBAi7KWlRUc/CfB2kYCBe/gg7moqVObQG0rUcMFuikrFtBOuM2/XzyUjFseATMAAAALUQZvM\n",
       "SeEPJlMCHf/+qZYAAykt1sAVkHtRCCsEg/aqtIBAA1NVK629vRwZYA/Svv9+VNwiA96lq7+jffUR\n",
       "CqiYp0Xx7cz1v0O2X7J9ttaXxhPOS3sf+Qvhhu4DDwSxviEKybw2hKrb5SHUO8GcwNw3GO4zRyuw\n",
       "jaef0P1fByLYqhds29nDs18Qd5WMtMqXrC+QFsK1OSPLuUjXnWhhikVohq+FU8BvTnt7Y6lBkJFv\n",
       "akd+xaaexutv526jzo0368sIeeqBO1Azo9HfcLiOczjzP1dYngtnRHvFDNE5p6WAyG3xLljiRQ5b\n",
       "uR0twsH+N0gsPyJ3yluOHL+jRiIV+5zKg/qUOCM8ZsdkFdrD3cbdmjnsa2TOqii30v+hiuji9gvh\n",
       "E7IdOZCxMjboj3XSSfke4udNWJKxCcCuDx3RJX4Fep9sRVQliZ2+rIgcunHKZEgzJQlmnp6l4Kj3\n",
       "lh2DzcWIW9MuXJGjXUDZKaWqqswUsl0OKi3HRsLIn7FRNkVvnksh+0GAVgM8APW7Kd9pgFLQ1cHz\n",
       "R6FTCFA9HiQMxMDKIkqdtYiG9PpnUd2c4eh6rydnIcUrs0wsXfIPyQSFh6DFjU6Ab14D+GNj+qSd\n",
       "vCSagauBld6iATkeawynyVVHr9Bl7InlfNuJhJjLvxYw/FhgVJTuzDsnE5MMooLD1zGBjZpPkOE1\n",
       "xesf+dCWGJcpUIbRKH9uGHOT6HW0yzUzhT/WIIX0XIkiL0HWcgTTgu5VVmvbqR85TLtdMuZYjINb\n",
       "3uOn412HQQlgQg5jCYHaGSlCWiyZpavp14FSchEN9mZZcIOmeh3c7U62mU74bQVkwWxmiQKPnfG+\n",
       "leSP/dfc1SX7OXwfea3HBSXka39m0vaBBNXxgn5cjiBHc2G7QM9VG8ssSRyXR5erLjgd38GeOKk4\n",
       "oSU1CWH3RVzSyBPeDu2BR3/4KBQWbnc2wKF4cXxCPtC8W315EAAAAZlBn+pFETwz/wAcBs9D20di\n",
       "TgBbNYfykCQueAGgcjIA8qWuALwYkS8fJ9iU/XZcegMnWHdu32Xdzo0xetVwRzGsrdV/2wRNxVOy\n",
       "Zo2T383JK/UBaFH4a18Us0MqkFh4wyvjjlv9K+vJfxcxaU+KRdwU7Vid/00KZm1r93YOZ1HkiYIP\n",
       "qwdWp3batrjyxPf9PD+iTmAq1s6EFXIYMFwj6Fq8oEPOWS8O9gUMS8OGtrwiyJF/jxn63Oi72g+8\n",
       "lukV1LdKdM+nP3c4eS82m6DF7LhMvLQfnuFqW1ePyPhuj5+U/59vww4nmxDs7iEPSfIaN2CfS3+/\n",
       "hvqoS+KK/Tu853YvsNHFBWoUE6VbrDUAzq1/n1IbhlceOp8M21KaE8uvgRmVveiB8wdlpfahV2YS\n",
       "9b7QDYegq7/JCo4wra53+omrzGpNogfqlCW2WF0dh677V8kIHXDw1hDfBxqWRl++XxfoVyjqw5qG\n",
       "dklcFL7OUKF3B9jabuBS5tij4aG2zZKDxohGTUZGWkXq2biVt0Az4vcWC9e4EZHoHt+BAAAA5QGe\n",
       "CXRC/wAmsX/oU7mn35wAIwJyJ/Xj0m1JeQ95tf3wKBO+S+ArtdDQHAufiW8DcMTRhtxPXp+KEWe9\n",
       "bQGZ/2rAqmIgn88R9YOnZARlRX/jfbK8DcXD3k7MIQC+z5dmSu/r8rKMRiBC9wKznAXSBViIVC+1\n",
       "TAa1QeK4wKSz0IvEeuCl5iQZZZ+BE3TddszNwmAUjY8kYKBeAB4rL7yEL7QM8QSYyBPMCN/rR4Nc\n",
       "jt+6NsyTYGsfkejq2DFh7cDt8vsbgTTjux/gh0AkBxCwqjUurfnHPkCnQQFH4kk0fUaEDmLCPSAA\n",
       "AADgAZ4LakL/ACa5z+cTiXHl7Nb4jtoLNiU0SwAsecd2r7OAqqCeSGFCpJR2AhYzyp+PTMb7HENx\n",
       "mLtmjOmnJwqXXslmc7CqK87DaYsyjYN+wq0zDuVpLMUtEkPeqLBA/pc7lofE1THXQZLXhgLyqjVq\n",
       "xiV1v4D50b8FA+FUvBBE+5LMKuTbOqYyU6Qb3bP1VuwyOPlhf9zFeinnaVIA2HUT36ujueek7hnP\n",
       "+6ungFZBMaBqbtaKyKmCNhhfsqcMas63/vZfYtWcx5bEdTfGNjpYG1C7kLeAbRk5pfGalgKxYAQA\n",
       "AAGxQZoQSahBaJlMCGf//p4QABh3nRgCJf5EhyXMGLIQOAeyosc+7OOSWNZYr+IgsfdPZy3uVPx0\n",
       "IJd3W8c31gsjmfQ0cdhZTaHeRhQRrYBuk3bBhS61jTrtWbpZuOEHAF/DdcuKM6YrLhyUCBPBBS7C\n",
       "+NUW+s0PPi1Lyjk39KLy0sHck9gBW9nXrrJh8ddq1q2gccldfXwSz+Jm0NCpDRTcOIqD47E+JuD+\n",
       "ZDtKPGH2i6HbD+pKIo2JCyZ5DszNuGSWAHYbBRRYIo80qZ9JUumz4Q+tU4tga4pBdlyxJqwxnKum\n",
       "B7uSYQe24YYSz0f2ZTsiycO06UaPJv5DCKpoJXHBTcZz7rIKvaaDod+y/pmXJovMgs1ywIn/00c2\n",
       "T4VNkonGbJUVX5AKzAoEqX8zE1dZxa8svYjqvPYsNJS2wxRq6TLiP5EJOibjJNQWQR0LcLZeR/vh\n",
       "FrwFfQ0N7dk0qKxoxSRxaJ6jPOH9CWS7hCUc7PaIUF2Yo6nSNAEpuZhTJ2CvY4T1ZT/gBkmXxPwo\n",
       "GW21YAA3Cw3tGyIxk7X6byEFEBAYpALPCcpessD2xIRrjB4lYQAAAf9Bni5FESwz/wAcVgnDa1qX\n",
       "TQBEd07G3dQArxHjViTyaLnNeg76k/UiyxPn6CsADZ7HcsaA/owFhJ9UxhZpRsgxC2FaMl314iji\n",
       "QHJzwGFG5FavtT/931i/Z7Ah8rK8z2emFBx8kRK1PchqxkI7LdlkOViTl5v/0MuYB6xm04go9DDW\n",
       "3+f5L5HyDj+nkR7Ye9Mlh5/vM11nm/M0042uy3YeTA1KWrg2bF69Mf2vV8xZWfJ4NKOddIlLaLhu\n",
       "L9ybfnxUuHz5/I5HNRKDI6S1BzZ6xpxKMF31ZRx2DPAFJA3b1JdMRbgYH1BSwufUug8PTGX3/0KE\n",
       "0rwFJCUUClT+ryuKAItrltEbVC/cdD8zvBfRMRSR0J/F6jpDDW7JTMBF1DeOpdJQPUw/myKIyAGB\n",
       "pDP5MHrQA1oCsL/J4R9nh6HoTkJbLOe8tGDtyvBuhAjJwWtIPMMhfZ6dl+htsoWMbWzthFQyui1M\n",
       "oS2WuI52IZ7ShOWHjco/Zm3e9VaJBEFg6gWRFVN7OmTsn2EXzl9D1H+lfbVSTQ52okyiZqnjdW0D\n",
       "sJbVxJZuFNJguOxoR6Xr3TAhlK7DtQJ4j0z2V/gMEJvGcDUs438tqeqdZ+b5Rha8o3H4H6o46ODZ\n",
       "uPHpsN/qXr+wO1Z10TVzuo+wsf+277lIFD2n71TmSeiQE2XddJJxAAABDwGeTXRC/wAmsX/mA3am\n",
       "dwOugX2TZVOd8gASX0GiO8ejTKFC4aJ4WPgjfEwd4rgL3ipRNY52ZMvEJBeKTsAsZJJVDrAHaw8S\n",
       "Gg2Y69CQA0qylmQmK88H8sDCKv40i/mKtELE7HVGYLNDXvK0nQa8DfNXy2ztsedghefSNfLtFDYY\n",
       "EOpQaeNjI13K6NxX18c9NJQZeiL6a7OTPh0h9R1wySPgGwV1tPrVl395nGts+RtkME1yrVh5erAK\n",
       "gwZkZoMtCFeNSP/U68t4kgT3N/mD8NvZRTss6g2xm+P8c+DqSNPTVmSElt37gexGM635S9HRpp29\n",
       "Lz7VHf106BTHXRVEnL+Zxhx87lZchOAvkgFWVMEAAAEpAZ5PakL/ACa5z/liJfRGUWFkfnbQx4tX\n",
       "0QAW6Y1JujMXKoXEv0Y1k8j0eQ4JvJ9uhA4IVF61+GXaNSRMI1enT6vHmoQlQJTrrBr+5ungywVy\n",
       "A551ER9cCg7Klr5+pSrP2dnhLqCDUOmFxSIfig6tlq6Yszevu/xRhXCWe/TSYRn9J0aqHkO4jghp\n",
       "nQdmS1ynlIt/AcVImKIckvSwtKAdFcibr/Q7QiqJ1sQ2gUuD2mxdVljCyQ+i25yY6X7mhhtgIIx5\n",
       "W6kzWtqpIx0p8xv0d/E0KAPjMMfWs9bk24WNwUdcGdoiaYjcitDyL+ocmMSp8ZOZWDImqTwQfjoA\n",
       "4AJqa7FStTc+CR2GE6twBkD0k4H8aVuYM7rA3POxHUW2ijzbUUyOQ/DpgNFwAAAAx0GaUUmoQWyZ\n",
       "TAhf//6MsAAYsj/Mf0ALd+1woTTEDZb18rcB+iCx75bRVGWq1595E/BIgeKF2YrklORfr9z6agSM\n",
       "VI9iYyZKcqddod6sfPhaWgsgjv9hVhYrodtPiUl3bEaWRYguYFD70mpFzGHB/V1Oa+A5Ve7Rn3pb\n",
       "OAVdKjXDdwweWE0r5v8RsPXeO5Aw+qwRwdpTagtuVLx7ZwmjtA8o2dmQW6g6QHzhfjPLhkWTGKwU\n",
       "lJRfttUzjF6XGSw0cv5gybxtekAAAAUebW9vdgAAAGxtdmhkAAAAAAAAAAAAAAAAAAAD6AAAC7gA\n",
       "AQAAAQAAAAAAAAAAAAAAAAEAAAAAAAAAAAAAAAAAAAABAAAAAAAAAAAAAAAAAABAAAAAAAAAAAAA\n",
       "AAAAAAAAAAAAAAAAAAAAAAAAAAAAAgAABEh0cmFrAAAAXHRraGQAAAADAAAAAAAAAAAAAAABAAAA\n",
       "AAAAC7gAAAAAAAAAAAAAAAAAAAAAAAEAAAAAAAAAAAAAAAAAAAABAAAAAAAAAAAAAAAAAABAAAAA\n",
       "AbAAAAEgAAAAAAAkZWR0cwAAABxlbHN0AAAAAAAAAAEAAAu4AAAGAAABAAAAAAPAbWRpYQAAACBt\n",
       "ZGhkAAAAAAAAAAAAAAAAAAAyAAAAlgBVxAAAAAAALWhkbHIAAAAAAAAAAHZpZGUAAAAAAAAAAAAA\n",
       "AABWaWRlb0hhbmRsZXIAAAADa21pbmYAAAAUdm1oZAAAAAEAAAAAAAAAAAAAACRkaW5mAAAAHGRy\n",
       "ZWYAAAAAAAAAAQAAAAx1cmwgAAAAAQAAAytzdGJsAAAAs3N0c2QAAAAAAAAAAQAAAKNhdmMxAAAA\n",
       "AAAAAAEAAAAAAAAAAAAAAAAAAAAAAbABIABIAAAASAAAAAAAAAABAAAAAAAAAAAAAAAAAAAAAAAA\n",
       "AAAAAAAAAAAAAAAAAAAAGP//AAAAMWF2Y0MBZAAV/+EAGGdkABWs2UGwloQAAAMADAAAAwGQPFi2\n",
       "WAEABmjr48siwAAAABx1dWlka2hA8l8kT8W6OaUbzwMj8wAAAAAAAAAYc3R0cwAAAAAAAAABAAAA\n",
       "MgAAAwAAAAAUc3RzcwAAAAAAAAABAAAAAQAAAThjdHRzAAAAAAAAACUAAAAFAAAGAAAAAAEAAAkA\n",
       "AAAAAQAAAwAAAAABAAAMAAAAAAIAAAMAAAAAAQAABgAAAAABAAAJAAAAAAEAAAMAAAAAAQAABgAA\n",
       "AAABAAAMAAAAAAIAAAMAAAAAAgAABgAAAAABAAAPAAAAAAEAAAYAAAAAAQAAAAAAAAABAAADAAAA\n",
       "AAEAAAwAAAAAAgAAAwAAAAABAAAMAAAAAAIAAAMAAAAAAQAADAAAAAACAAADAAAAAAMAAAYAAAAA\n",
       "AQAACQAAAAABAAADAAAAAAIAAAYAAAAAAQAACQAAAAABAAADAAAAAAEAAA8AAAAAAQAABgAAAAAB\n",
       "AAAAAAAAAAEAAAMAAAAAAQAADwAAAAABAAAGAAAAAAEAAAAAAAAAAQAAAwAAAAABAAAGAAAAABxz\n",
       "dHNjAAAAAAAAAAEAAAABAAAAMgAAAAEAAADcc3RzegAAAAAAAAAAAAAAMgAACmoAAAKqAAACOgAA\n",
       "Ai8AAAHhAAACzgAAAN0AAALLAAABCAAAAM0AAAF/AAABbgAAAOcAAAE9AAAB0QAAASIAAADoAAAB\n",
       "lQAAAWUAAAIiAAABqwAAAOgAAAEmAAABmQAAATEAAADXAAAC5wAAAXEAAAEPAAADHQAAAWEAAADw\n",
       "AAABVgAAAX4AAAGhAAACBAAAAOUAAAE7AAABGgAAAY4AAADQAAAC2AAAAZ0AAADpAAAA5AAAAbUA\n",
       "AAIDAAABEwAAAS0AAADLAAAAFHN0Y28AAAAAAAAAAQAAACwAAABidWR0YQAAAFptZXRhAAAAAAAA\n",
       "ACFoZGxyAAAAAAAAAABtZGlyYXBwbAAAAAAAAAAAAAAAAC1pbHN0AAAAJal0b28AAAAdZGF0YQAA\n",
       "AAEAAAAATGF2ZjU4LjI5LjEwMA==\n",
       "\">\n",
       "  Your browser does not support the video tag.\n",
       "</video>"
      ],
      "text/plain": [
       "<IPython.core.display.HTML object>"
      ]
     },
     "execution_count": 69,
     "metadata": {},
     "output_type": "execute_result"
    }
   ],
   "source": [
    "from IPython.display import HTML\n",
    "HTML(animacion.to_html5_video())"
   ]
  },
  {
   "cell_type": "markdown",
   "id": "divided-filename",
   "metadata": {
    "slideshow": {
     "slide_type": "slide"
    }
   },
   "source": [
    "Si se desea generar un video para exportar la animación, descomente la siguiente línea:"
   ]
  },
  {
   "cell_type": "code",
   "execution_count": 117,
   "id": "received-frederick",
   "metadata": {
    "slideshow": {
     "slide_type": "subslide"
    }
   },
   "outputs": [],
   "source": [
    "animacion.save('mecanismo.mpg', writer=\"ffmpeg\", fps=24, dpi=350)"
   ]
  }
 ],
 "metadata": {
  "kernelspec": {
   "display_name": "Python 3",
   "language": "python",
   "name": "python3"
  },
  "language_info": {
   "codemirror_mode": {
    "name": "ipython",
    "version": 3
   },
   "file_extension": ".py",
   "mimetype": "text/x-python",
   "name": "python",
   "nbconvert_exporter": "python",
   "pygments_lexer": "ipython3",
   "version": "3.7.7"
  }
 },
 "nbformat": 4,
 "nbformat_minor": 5
}
